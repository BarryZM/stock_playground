{
 "cells": [
  {
   "cell_type": "code",
   "execution_count": 12,
   "metadata": {},
   "outputs": [],
   "source": [
    "import pandas as pd\n",
    "from bokeh.plotting import figure\n",
    "from nobody.utils import load_hist, load_all_hist\n",
    "from nobody.utils.utils import get_ts_client\n",
    "from nobody.settings import config\n",
    "from bokeh.plotting import figure, output_notebook, show\n",
    "\n",
    "ts = get_ts_client()\n"
   ]
  },
  {
   "cell_type": "code",
   "execution_count": 52,
   "metadata": {},
   "outputs": [],
   "source": [
    "feed = load_all_hist()"
   ]
  },
  {
   "cell_type": "code",
   "execution_count": 28,
   "metadata": {
    "scrolled": true
   },
   "outputs": [
    {
     "data": {
      "text/html": [
       "<div>\n",
       "<style scoped>\n",
       "    .dataframe tbody tr th:only-of-type {\n",
       "        vertical-align: middle;\n",
       "    }\n",
       "\n",
       "    .dataframe tbody tr th {\n",
       "        vertical-align: top;\n",
       "    }\n",
       "\n",
       "    .dataframe thead th {\n",
       "        text-align: right;\n",
       "    }\n",
       "</style>\n",
       "<table border=\"1\" class=\"dataframe\">\n",
       "  <thead>\n",
       "    <tr style=\"text-align: right;\">\n",
       "      <th></th>\n",
       "      <th>ts_code</th>\n",
       "      <th>trade_date</th>\n",
       "      <th>close</th>\n",
       "      <th>open</th>\n",
       "      <th>high</th>\n",
       "      <th>low</th>\n",
       "      <th>pre_close</th>\n",
       "      <th>change</th>\n",
       "      <th>pct_chg</th>\n",
       "      <th>vol</th>\n",
       "      <th>amount</th>\n",
       "    </tr>\n",
       "    <tr>\n",
       "      <th>trade_date</th>\n",
       "      <th></th>\n",
       "      <th></th>\n",
       "      <th></th>\n",
       "      <th></th>\n",
       "      <th></th>\n",
       "      <th></th>\n",
       "      <th></th>\n",
       "      <th></th>\n",
       "      <th></th>\n",
       "      <th></th>\n",
       "      <th></th>\n",
       "    </tr>\n",
       "  </thead>\n",
       "  <tbody>\n",
       "    <tr>\n",
       "      <th>2012-01-04</th>\n",
       "      <td>000001.SH</td>\n",
       "      <td>20120104</td>\n",
       "      <td>2169.390</td>\n",
       "      <td>2211.995</td>\n",
       "      <td>2217.520</td>\n",
       "      <td>2168.644</td>\n",
       "      <td>2199.417</td>\n",
       "      <td>-30.027</td>\n",
       "      <td>-1.3652</td>\n",
       "      <td>49245537.0</td>\n",
       "      <td>4.063292e+07</td>\n",
       "    </tr>\n",
       "    <tr>\n",
       "      <th>2012-01-05</th>\n",
       "      <td>000001.SH</td>\n",
       "      <td>20120105</td>\n",
       "      <td>2148.452</td>\n",
       "      <td>2160.898</td>\n",
       "      <td>2183.404</td>\n",
       "      <td>2145.556</td>\n",
       "      <td>2169.390</td>\n",
       "      <td>-20.938</td>\n",
       "      <td>-0.9652</td>\n",
       "      <td>58743447.0</td>\n",
       "      <td>4.660397e+07</td>\n",
       "    </tr>\n",
       "    <tr>\n",
       "      <th>2012-01-06</th>\n",
       "      <td>000001.SH</td>\n",
       "      <td>20120106</td>\n",
       "      <td>2163.395</td>\n",
       "      <td>2148.147</td>\n",
       "      <td>2164.322</td>\n",
       "      <td>2132.626</td>\n",
       "      <td>2148.452</td>\n",
       "      <td>14.943</td>\n",
       "      <td>0.6955</td>\n",
       "      <td>50583054.0</td>\n",
       "      <td>3.946587e+07</td>\n",
       "    </tr>\n",
       "    <tr>\n",
       "      <th>2012-01-09</th>\n",
       "      <td>000001.SH</td>\n",
       "      <td>20120109</td>\n",
       "      <td>2225.890</td>\n",
       "      <td>2164.741</td>\n",
       "      <td>2226.218</td>\n",
       "      <td>2148.453</td>\n",
       "      <td>2163.395</td>\n",
       "      <td>62.495</td>\n",
       "      <td>2.8887</td>\n",
       "      <td>76759839.0</td>\n",
       "      <td>6.213296e+07</td>\n",
       "    </tr>\n",
       "    <tr>\n",
       "      <th>2012-01-10</th>\n",
       "      <td>000001.SH</td>\n",
       "      <td>20120110</td>\n",
       "      <td>2285.744</td>\n",
       "      <td>2221.832</td>\n",
       "      <td>2288.628</td>\n",
       "      <td>2218.275</td>\n",
       "      <td>2225.890</td>\n",
       "      <td>59.854</td>\n",
       "      <td>2.6890</td>\n",
       "      <td>109585415.0</td>\n",
       "      <td>9.104590e+07</td>\n",
       "    </tr>\n",
       "  </tbody>\n",
       "</table>\n",
       "</div>"
      ],
      "text/plain": [
       "              ts_code trade_date     close      open      high       low  \\\n",
       "trade_date                                                                 \n",
       "2012-01-04  000001.SH   20120104  2169.390  2211.995  2217.520  2168.644   \n",
       "2012-01-05  000001.SH   20120105  2148.452  2160.898  2183.404  2145.556   \n",
       "2012-01-06  000001.SH   20120106  2163.395  2148.147  2164.322  2132.626   \n",
       "2012-01-09  000001.SH   20120109  2225.890  2164.741  2226.218  2148.453   \n",
       "2012-01-10  000001.SH   20120110  2285.744  2221.832  2288.628  2218.275   \n",
       "\n",
       "            pre_close  change  pct_chg          vol        amount  \n",
       "trade_date                                                         \n",
       "2012-01-04   2199.417 -30.027  -1.3652   49245537.0  4.063292e+07  \n",
       "2012-01-05   2169.390 -20.938  -0.9652   58743447.0  4.660397e+07  \n",
       "2012-01-06   2148.452  14.943   0.6955   50583054.0  3.946587e+07  \n",
       "2012-01-09   2163.395  62.495   2.8887   76759839.0  6.213296e+07  \n",
       "2012-01-10   2225.890  59.854   2.6890  109585415.0  9.104590e+07  "
      ]
     },
     "execution_count": 28,
     "metadata": {},
     "output_type": "execute_result"
    }
   ],
   "source": [
    "# data = ts.pro_bar(ts_code=\"000001.SZ\", adj='qfq', start_date=\"2018-01-01\")\n",
    "sh_index = ts.pro_bar(ts_code='000001.SH', asset='I', start_date=config[\"START_DATE\"])\n",
    "sh_index.index = pd.to_datetime(sh_index.trade_date)\n",
    "sh_index.sort_index(inplace=True)\n",
    "sh_index.head()"
   ]
  },
  {
   "cell_type": "code",
   "execution_count": 60,
   "metadata": {
    "scrolled": true
   },
   "outputs": [
    {
     "data": {
      "text/plain": [
       "False"
      ]
     },
     "execution_count": 60,
     "metadata": {},
     "output_type": "execute_result"
    }
   ],
   "source": [
    "feed[\"000001.SZ\"].tail()\n",
    "'2019-07-24' not in feed[\"000001.SZ\"].index"
   ]
  },
  {
   "cell_type": "code",
   "execution_count": 79,
   "metadata": {
    "scrolled": false
   },
   "outputs": [
    {
     "data": {
      "text/html": [
       "\n",
       "    <div class=\"bk-root\">\n",
       "        <a href=\"https://bokeh.pydata.org\" target=\"_blank\" class=\"bk-logo bk-logo-small bk-logo-notebook\"></a>\n",
       "        <span id=\"4632\">Loading BokehJS ...</span>\n",
       "    </div>"
      ]
     },
     "metadata": {},
     "output_type": "display_data"
    },
    {
     "data": {
      "application/javascript": [
       "\n",
       "(function(root) {\n",
       "  function now() {\n",
       "    return new Date();\n",
       "  }\n",
       "\n",
       "  var force = true;\n",
       "\n",
       "  if (typeof (root._bokeh_onload_callbacks) === \"undefined\" || force === true) {\n",
       "    root._bokeh_onload_callbacks = [];\n",
       "    root._bokeh_is_loading = undefined;\n",
       "  }\n",
       "\n",
       "  var JS_MIME_TYPE = 'application/javascript';\n",
       "  var HTML_MIME_TYPE = 'text/html';\n",
       "  var EXEC_MIME_TYPE = 'application/vnd.bokehjs_exec.v0+json';\n",
       "  var CLASS_NAME = 'output_bokeh rendered_html';\n",
       "\n",
       "  /**\n",
       "   * Render data to the DOM node\n",
       "   */\n",
       "  function render(props, node) {\n",
       "    var script = document.createElement(\"script\");\n",
       "    node.appendChild(script);\n",
       "  }\n",
       "\n",
       "  /**\n",
       "   * Handle when an output is cleared or removed\n",
       "   */\n",
       "  function handleClearOutput(event, handle) {\n",
       "    var cell = handle.cell;\n",
       "\n",
       "    var id = cell.output_area._bokeh_element_id;\n",
       "    var server_id = cell.output_area._bokeh_server_id;\n",
       "    // Clean up Bokeh references\n",
       "    if (id != null && id in Bokeh.index) {\n",
       "      Bokeh.index[id].model.document.clear();\n",
       "      delete Bokeh.index[id];\n",
       "    }\n",
       "\n",
       "    if (server_id !== undefined) {\n",
       "      // Clean up Bokeh references\n",
       "      var cmd = \"from bokeh.io.state import curstate; print(curstate().uuid_to_server['\" + server_id + \"'].get_sessions()[0].document.roots[0]._id)\";\n",
       "      cell.notebook.kernel.execute(cmd, {\n",
       "        iopub: {\n",
       "          output: function(msg) {\n",
       "            var id = msg.content.text.trim();\n",
       "            if (id in Bokeh.index) {\n",
       "              Bokeh.index[id].model.document.clear();\n",
       "              delete Bokeh.index[id];\n",
       "            }\n",
       "          }\n",
       "        }\n",
       "      });\n",
       "      // Destroy server and session\n",
       "      var cmd = \"import bokeh.io.notebook as ion; ion.destroy_server('\" + server_id + \"')\";\n",
       "      cell.notebook.kernel.execute(cmd);\n",
       "    }\n",
       "  }\n",
       "\n",
       "  /**\n",
       "   * Handle when a new output is added\n",
       "   */\n",
       "  function handleAddOutput(event, handle) {\n",
       "    var output_area = handle.output_area;\n",
       "    var output = handle.output;\n",
       "\n",
       "    // limit handleAddOutput to display_data with EXEC_MIME_TYPE content only\n",
       "    if ((output.output_type != \"display_data\") || (!output.data.hasOwnProperty(EXEC_MIME_TYPE))) {\n",
       "      return\n",
       "    }\n",
       "\n",
       "    var toinsert = output_area.element.find(\".\" + CLASS_NAME.split(' ')[0]);\n",
       "\n",
       "    if (output.metadata[EXEC_MIME_TYPE][\"id\"] !== undefined) {\n",
       "      toinsert[toinsert.length - 1].firstChild.textContent = output.data[JS_MIME_TYPE];\n",
       "      // store reference to embed id on output_area\n",
       "      output_area._bokeh_element_id = output.metadata[EXEC_MIME_TYPE][\"id\"];\n",
       "    }\n",
       "    if (output.metadata[EXEC_MIME_TYPE][\"server_id\"] !== undefined) {\n",
       "      var bk_div = document.createElement(\"div\");\n",
       "      bk_div.innerHTML = output.data[HTML_MIME_TYPE];\n",
       "      var script_attrs = bk_div.children[0].attributes;\n",
       "      for (var i = 0; i < script_attrs.length; i++) {\n",
       "        toinsert[toinsert.length - 1].firstChild.setAttribute(script_attrs[i].name, script_attrs[i].value);\n",
       "      }\n",
       "      // store reference to server id on output_area\n",
       "      output_area._bokeh_server_id = output.metadata[EXEC_MIME_TYPE][\"server_id\"];\n",
       "    }\n",
       "  }\n",
       "\n",
       "  function register_renderer(events, OutputArea) {\n",
       "\n",
       "    function append_mime(data, metadata, element) {\n",
       "      // create a DOM node to render to\n",
       "      var toinsert = this.create_output_subarea(\n",
       "        metadata,\n",
       "        CLASS_NAME,\n",
       "        EXEC_MIME_TYPE\n",
       "      );\n",
       "      this.keyboard_manager.register_events(toinsert);\n",
       "      // Render to node\n",
       "      var props = {data: data, metadata: metadata[EXEC_MIME_TYPE]};\n",
       "      render(props, toinsert[toinsert.length - 1]);\n",
       "      element.append(toinsert);\n",
       "      return toinsert\n",
       "    }\n",
       "\n",
       "    /* Handle when an output is cleared or removed */\n",
       "    events.on('clear_output.CodeCell', handleClearOutput);\n",
       "    events.on('delete.Cell', handleClearOutput);\n",
       "\n",
       "    /* Handle when a new output is added */\n",
       "    events.on('output_added.OutputArea', handleAddOutput);\n",
       "\n",
       "    /**\n",
       "     * Register the mime type and append_mime function with output_area\n",
       "     */\n",
       "    OutputArea.prototype.register_mime_type(EXEC_MIME_TYPE, append_mime, {\n",
       "      /* Is output safe? */\n",
       "      safe: true,\n",
       "      /* Index of renderer in `output_area.display_order` */\n",
       "      index: 0\n",
       "    });\n",
       "  }\n",
       "\n",
       "  // register the mime type if in Jupyter Notebook environment and previously unregistered\n",
       "  if (root.Jupyter !== undefined) {\n",
       "    var events = require('base/js/events');\n",
       "    var OutputArea = require('notebook/js/outputarea').OutputArea;\n",
       "\n",
       "    if (OutputArea.prototype.mime_types().indexOf(EXEC_MIME_TYPE) == -1) {\n",
       "      register_renderer(events, OutputArea);\n",
       "    }\n",
       "  }\n",
       "\n",
       "  \n",
       "  if (typeof (root._bokeh_timeout) === \"undefined\" || force === true) {\n",
       "    root._bokeh_timeout = Date.now() + 5000;\n",
       "    root._bokeh_failed_load = false;\n",
       "  }\n",
       "\n",
       "  var NB_LOAD_WARNING = {'data': {'text/html':\n",
       "     \"<div style='background-color: #fdd'>\\n\"+\n",
       "     \"<p>\\n\"+\n",
       "     \"BokehJS does not appear to have successfully loaded. If loading BokehJS from CDN, this \\n\"+\n",
       "     \"may be due to a slow or bad network connection. Possible fixes:\\n\"+\n",
       "     \"</p>\\n\"+\n",
       "     \"<ul>\\n\"+\n",
       "     \"<li>re-rerun `output_notebook()` to attempt to load from CDN again, or</li>\\n\"+\n",
       "     \"<li>use INLINE resources instead, as so:</li>\\n\"+\n",
       "     \"</ul>\\n\"+\n",
       "     \"<code>\\n\"+\n",
       "     \"from bokeh.resources import INLINE\\n\"+\n",
       "     \"output_notebook(resources=INLINE)\\n\"+\n",
       "     \"</code>\\n\"+\n",
       "     \"</div>\"}};\n",
       "\n",
       "  function display_loaded() {\n",
       "    var el = document.getElementById(\"4632\");\n",
       "    if (el != null) {\n",
       "      el.textContent = \"BokehJS is loading...\";\n",
       "    }\n",
       "    if (root.Bokeh !== undefined) {\n",
       "      if (el != null) {\n",
       "        el.textContent = \"BokehJS \" + root.Bokeh.version + \" successfully loaded.\";\n",
       "      }\n",
       "    } else if (Date.now() < root._bokeh_timeout) {\n",
       "      setTimeout(display_loaded, 100)\n",
       "    }\n",
       "  }\n",
       "\n",
       "\n",
       "  function run_callbacks() {\n",
       "    try {\n",
       "      root._bokeh_onload_callbacks.forEach(function(callback) { callback() });\n",
       "    }\n",
       "    finally {\n",
       "      delete root._bokeh_onload_callbacks\n",
       "    }\n",
       "    console.info(\"Bokeh: all callbacks have finished\");\n",
       "  }\n",
       "\n",
       "  function load_libs(js_urls, callback) {\n",
       "    root._bokeh_onload_callbacks.push(callback);\n",
       "    if (root._bokeh_is_loading > 0) {\n",
       "      console.log(\"Bokeh: BokehJS is being loaded, scheduling callback at\", now());\n",
       "      return null;\n",
       "    }\n",
       "    if (js_urls == null || js_urls.length === 0) {\n",
       "      run_callbacks();\n",
       "      return null;\n",
       "    }\n",
       "    console.log(\"Bokeh: BokehJS not loaded, scheduling load and callback at\", now());\n",
       "    root._bokeh_is_loading = js_urls.length;\n",
       "    for (var i = 0; i < js_urls.length; i++) {\n",
       "      var url = js_urls[i];\n",
       "      var s = document.createElement('script');\n",
       "      s.src = url;\n",
       "      s.async = false;\n",
       "      s.onreadystatechange = s.onload = function() {\n",
       "        root._bokeh_is_loading--;\n",
       "        if (root._bokeh_is_loading === 0) {\n",
       "          console.log(\"Bokeh: all BokehJS libraries loaded\");\n",
       "          run_callbacks()\n",
       "        }\n",
       "      };\n",
       "      s.onerror = function() {\n",
       "        console.warn(\"failed to load library \" + url);\n",
       "      };\n",
       "      console.log(\"Bokeh: injecting script tag for BokehJS library: \", url);\n",
       "      document.getElementsByTagName(\"head\")[0].appendChild(s);\n",
       "    }\n",
       "  };var element = document.getElementById(\"4632\");\n",
       "  if (element == null) {\n",
       "    console.log(\"Bokeh: ERROR: autoload.js configured with elementid '4632' but no matching script tag was found. \")\n",
       "    return false;\n",
       "  }\n",
       "\n",
       "  var js_urls = [\"https://cdn.pydata.org/bokeh/release/bokeh-1.0.4.min.js\", \"https://cdn.pydata.org/bokeh/release/bokeh-widgets-1.0.4.min.js\", \"https://cdn.pydata.org/bokeh/release/bokeh-tables-1.0.4.min.js\", \"https://cdn.pydata.org/bokeh/release/bokeh-gl-1.0.4.min.js\"];\n",
       "\n",
       "  var inline_js = [\n",
       "    function(Bokeh) {\n",
       "      Bokeh.set_log_level(\"info\");\n",
       "    },\n",
       "    \n",
       "    function(Bokeh) {\n",
       "      \n",
       "    },\n",
       "    function(Bokeh) {\n",
       "      console.log(\"Bokeh: injecting CSS: https://cdn.pydata.org/bokeh/release/bokeh-1.0.4.min.css\");\n",
       "      Bokeh.embed.inject_css(\"https://cdn.pydata.org/bokeh/release/bokeh-1.0.4.min.css\");\n",
       "      console.log(\"Bokeh: injecting CSS: https://cdn.pydata.org/bokeh/release/bokeh-widgets-1.0.4.min.css\");\n",
       "      Bokeh.embed.inject_css(\"https://cdn.pydata.org/bokeh/release/bokeh-widgets-1.0.4.min.css\");\n",
       "      console.log(\"Bokeh: injecting CSS: https://cdn.pydata.org/bokeh/release/bokeh-tables-1.0.4.min.css\");\n",
       "      Bokeh.embed.inject_css(\"https://cdn.pydata.org/bokeh/release/bokeh-tables-1.0.4.min.css\");\n",
       "    }\n",
       "  ];\n",
       "\n",
       "  function run_inline_js() {\n",
       "    \n",
       "    if ((root.Bokeh !== undefined) || (force === true)) {\n",
       "      for (var i = 0; i < inline_js.length; i++) {\n",
       "        inline_js[i].call(root, root.Bokeh);\n",
       "      }if (force === true) {\n",
       "        display_loaded();\n",
       "      }} else if (Date.now() < root._bokeh_timeout) {\n",
       "      setTimeout(run_inline_js, 100);\n",
       "    } else if (!root._bokeh_failed_load) {\n",
       "      console.log(\"Bokeh: BokehJS failed to load within specified timeout.\");\n",
       "      root._bokeh_failed_load = true;\n",
       "    } else if (force !== true) {\n",
       "      var cell = $(document.getElementById(\"4632\")).parents('.cell').data().cell;\n",
       "      cell.output_area.append_execute_result(NB_LOAD_WARNING)\n",
       "    }\n",
       "\n",
       "  }\n",
       "\n",
       "  if (root._bokeh_is_loading === 0) {\n",
       "    console.log(\"Bokeh: BokehJS loaded, going straight to plotting\");\n",
       "    run_inline_js();\n",
       "  } else {\n",
       "    load_libs(js_urls, function() {\n",
       "      console.log(\"Bokeh: BokehJS plotting callback run at\", now());\n",
       "      run_inline_js();\n",
       "    });\n",
       "  }\n",
       "}(window));"
      ],
      "application/vnd.bokehjs_load.v0+json": "\n(function(root) {\n  function now() {\n    return new Date();\n  }\n\n  var force = true;\n\n  if (typeof (root._bokeh_onload_callbacks) === \"undefined\" || force === true) {\n    root._bokeh_onload_callbacks = [];\n    root._bokeh_is_loading = undefined;\n  }\n\n  \n\n  \n  if (typeof (root._bokeh_timeout) === \"undefined\" || force === true) {\n    root._bokeh_timeout = Date.now() + 5000;\n    root._bokeh_failed_load = false;\n  }\n\n  var NB_LOAD_WARNING = {'data': {'text/html':\n     \"<div style='background-color: #fdd'>\\n\"+\n     \"<p>\\n\"+\n     \"BokehJS does not appear to have successfully loaded. If loading BokehJS from CDN, this \\n\"+\n     \"may be due to a slow or bad network connection. Possible fixes:\\n\"+\n     \"</p>\\n\"+\n     \"<ul>\\n\"+\n     \"<li>re-rerun `output_notebook()` to attempt to load from CDN again, or</li>\\n\"+\n     \"<li>use INLINE resources instead, as so:</li>\\n\"+\n     \"</ul>\\n\"+\n     \"<code>\\n\"+\n     \"from bokeh.resources import INLINE\\n\"+\n     \"output_notebook(resources=INLINE)\\n\"+\n     \"</code>\\n\"+\n     \"</div>\"}};\n\n  function display_loaded() {\n    var el = document.getElementById(\"4632\");\n    if (el != null) {\n      el.textContent = \"BokehJS is loading...\";\n    }\n    if (root.Bokeh !== undefined) {\n      if (el != null) {\n        el.textContent = \"BokehJS \" + root.Bokeh.version + \" successfully loaded.\";\n      }\n    } else if (Date.now() < root._bokeh_timeout) {\n      setTimeout(display_loaded, 100)\n    }\n  }\n\n\n  function run_callbacks() {\n    try {\n      root._bokeh_onload_callbacks.forEach(function(callback) { callback() });\n    }\n    finally {\n      delete root._bokeh_onload_callbacks\n    }\n    console.info(\"Bokeh: all callbacks have finished\");\n  }\n\n  function load_libs(js_urls, callback) {\n    root._bokeh_onload_callbacks.push(callback);\n    if (root._bokeh_is_loading > 0) {\n      console.log(\"Bokeh: BokehJS is being loaded, scheduling callback at\", now());\n      return null;\n    }\n    if (js_urls == null || js_urls.length === 0) {\n      run_callbacks();\n      return null;\n    }\n    console.log(\"Bokeh: BokehJS not loaded, scheduling load and callback at\", now());\n    root._bokeh_is_loading = js_urls.length;\n    for (var i = 0; i < js_urls.length; i++) {\n      var url = js_urls[i];\n      var s = document.createElement('script');\n      s.src = url;\n      s.async = false;\n      s.onreadystatechange = s.onload = function() {\n        root._bokeh_is_loading--;\n        if (root._bokeh_is_loading === 0) {\n          console.log(\"Bokeh: all BokehJS libraries loaded\");\n          run_callbacks()\n        }\n      };\n      s.onerror = function() {\n        console.warn(\"failed to load library \" + url);\n      };\n      console.log(\"Bokeh: injecting script tag for BokehJS library: \", url);\n      document.getElementsByTagName(\"head\")[0].appendChild(s);\n    }\n  };var element = document.getElementById(\"4632\");\n  if (element == null) {\n    console.log(\"Bokeh: ERROR: autoload.js configured with elementid '4632' but no matching script tag was found. \")\n    return false;\n  }\n\n  var js_urls = [\"https://cdn.pydata.org/bokeh/release/bokeh-1.0.4.min.js\", \"https://cdn.pydata.org/bokeh/release/bokeh-widgets-1.0.4.min.js\", \"https://cdn.pydata.org/bokeh/release/bokeh-tables-1.0.4.min.js\", \"https://cdn.pydata.org/bokeh/release/bokeh-gl-1.0.4.min.js\"];\n\n  var inline_js = [\n    function(Bokeh) {\n      Bokeh.set_log_level(\"info\");\n    },\n    \n    function(Bokeh) {\n      \n    },\n    function(Bokeh) {\n      console.log(\"Bokeh: injecting CSS: https://cdn.pydata.org/bokeh/release/bokeh-1.0.4.min.css\");\n      Bokeh.embed.inject_css(\"https://cdn.pydata.org/bokeh/release/bokeh-1.0.4.min.css\");\n      console.log(\"Bokeh: injecting CSS: https://cdn.pydata.org/bokeh/release/bokeh-widgets-1.0.4.min.css\");\n      Bokeh.embed.inject_css(\"https://cdn.pydata.org/bokeh/release/bokeh-widgets-1.0.4.min.css\");\n      console.log(\"Bokeh: injecting CSS: https://cdn.pydata.org/bokeh/release/bokeh-tables-1.0.4.min.css\");\n      Bokeh.embed.inject_css(\"https://cdn.pydata.org/bokeh/release/bokeh-tables-1.0.4.min.css\");\n    }\n  ];\n\n  function run_inline_js() {\n    \n    if ((root.Bokeh !== undefined) || (force === true)) {\n      for (var i = 0; i < inline_js.length; i++) {\n        inline_js[i].call(root, root.Bokeh);\n      }if (force === true) {\n        display_loaded();\n      }} else if (Date.now() < root._bokeh_timeout) {\n      setTimeout(run_inline_js, 100);\n    } else if (!root._bokeh_failed_load) {\n      console.log(\"Bokeh: BokehJS failed to load within specified timeout.\");\n      root._bokeh_failed_load = true;\n    } else if (force !== true) {\n      var cell = $(document.getElementById(\"4632\")).parents('.cell').data().cell;\n      cell.output_area.append_execute_result(NB_LOAD_WARNING)\n    }\n\n  }\n\n  if (root._bokeh_is_loading === 0) {\n    console.log(\"Bokeh: BokehJS loaded, going straight to plotting\");\n    run_inline_js();\n  } else {\n    load_libs(js_urls, function() {\n      console.log(\"Bokeh: BokehJS plotting callback run at\", now());\n      run_inline_js();\n    });\n  }\n}(window));"
     },
     "metadata": {},
     "output_type": "display_data"
    },
    {
     "data": {
      "text/html": [
       "\n",
       "\n",
       "\n",
       "\n",
       "\n",
       "\n",
       "  <div class=\"bk-root\" id=\"0e0e016d-9265-4411-9aa1-813cbdb1143f\" data-root-id=\"4592\"></div>\n"
      ]
     },
     "metadata": {},
     "output_type": "display_data"
    },
    {
     "data": {
      "application/javascript": [
       "(function(root) {\n",
       "  function embed_document(root) {\n",
       "    \n",
       "  var docs_json = {\"0d59fca2-1ebf-472c-aecc-d8ccb46820ae\":{\"roots\":{\"references\":[{\"attributes\":{\"below\":[{\"id\":\"4602\",\"type\":\"DatetimeAxis\"}],\"left\":[{\"id\":\"4607\",\"type\":\"LinearAxis\"}],\"plot_height\":250,\"plot_width\":800,\"renderers\":[{\"id\":\"4602\",\"type\":\"DatetimeAxis\"},{\"id\":\"4606\",\"type\":\"Grid\"},{\"id\":\"4607\",\"type\":\"LinearAxis\"},{\"id\":\"4611\",\"type\":\"Grid\"},{\"id\":\"4620\",\"type\":\"BoxAnnotation\"},{\"id\":\"4630\",\"type\":\"GlyphRenderer\"}],\"title\":{\"id\":\"4591\",\"type\":\"Title\"},\"toolbar\":{\"id\":\"4618\",\"type\":\"Toolbar\"},\"x_range\":{\"id\":\"4594\",\"type\":\"DataRange1d\"},\"x_scale\":{\"id\":\"4598\",\"type\":\"LinearScale\"},\"y_range\":{\"id\":\"4596\",\"type\":\"DataRange1d\"},\"y_scale\":{\"id\":\"4600\",\"type\":\"LinearScale\"}},\"id\":\"4592\",\"subtype\":\"Figure\",\"type\":\"Plot\"},{\"attributes\":{},\"id\":\"4616\",\"type\":\"ResetTool\"},{\"attributes\":{},\"id\":\"4598\",\"type\":\"LinearScale\"},{\"attributes\":{},\"id\":\"4615\",\"type\":\"SaveTool\"},{\"attributes\":{\"line_alpha\":0.1,\"line_color\":\"#1f77b4\",\"x\":{\"field\":\"x\"},\"y\":{\"field\":\"y\"}},\"id\":\"4629\",\"type\":\"Line\"},{\"attributes\":{\"mantissas\":[1,2,5],\"max_interval\":500.0,\"num_minor_ticks\":0},\"id\":\"4783\",\"type\":\"AdaptiveTicker\"},{\"attributes\":{},\"id\":\"4600\",\"type\":\"LinearScale\"},{\"attributes\":{\"line_alpha\":0.5,\"line_color\":\"navy\",\"x\":{\"field\":\"x\"},\"y\":{\"field\":\"y\"}},\"id\":\"4628\",\"type\":\"Line\"},{\"attributes\":{},\"id\":\"4782\",\"type\":\"BasicTickFormatter\"},{\"attributes\":{\"formatter\":{\"id\":\"4780\",\"type\":\"DatetimeTickFormatter\"},\"plot\":{\"id\":\"4592\",\"subtype\":\"Figure\",\"type\":\"Plot\"},\"ticker\":{\"id\":\"4603\",\"type\":\"DatetimeTicker\"}},\"id\":\"4602\",\"type\":\"DatetimeAxis\"},{\"attributes\":{\"base\":60,\"mantissas\":[1,2,5,10,15,20,30],\"max_interval\":1800000.0,\"min_interval\":1000.0,\"num_minor_ticks\":0},\"id\":\"4784\",\"type\":\"AdaptiveTicker\"},{\"attributes\":{},\"id\":\"4613\",\"type\":\"WheelZoomTool\"},{\"attributes\":{\"overlay\":{\"id\":\"4620\",\"type\":\"BoxAnnotation\"}},\"id\":\"4614\",\"type\":\"BoxZoomTool\"},{\"attributes\":{\"base\":24,\"mantissas\":[1,2,4,6,8,12],\"max_interval\":43200000.0,\"min_interval\":3600000.0,\"num_minor_ticks\":0},\"id\":\"4785\",\"type\":\"AdaptiveTicker\"},{\"attributes\":{\"dimension\":1,\"plot\":{\"id\":\"4592\",\"subtype\":\"Figure\",\"type\":\"Plot\"},\"ticker\":{\"id\":\"4608\",\"type\":\"BasicTicker\"}},\"id\":\"4611\",\"type\":\"Grid\"},{\"attributes\":{\"bottom_units\":\"screen\",\"fill_alpha\":{\"value\":0.5},\"fill_color\":{\"value\":\"lightgrey\"},\"left_units\":\"screen\",\"level\":\"overlay\",\"line_alpha\":{\"value\":1.0},\"line_color\":{\"value\":\"black\"},\"line_dash\":[4,4],\"line_width\":{\"value\":2},\"plot\":null,\"render_mode\":\"css\",\"right_units\":\"screen\",\"top_units\":\"screen\"},\"id\":\"4620\",\"type\":\"BoxAnnotation\"},{\"attributes\":{},\"id\":\"4608\",\"type\":\"BasicTicker\"},{\"attributes\":{\"days\":[1,2,3,4,5,6,7,8,9,10,11,12,13,14,15,16,17,18,19,20,21,22,23,24,25,26,27,28,29,30,31]},\"id\":\"4786\",\"type\":\"DaysTicker\"},{\"attributes\":{},\"id\":\"4780\",\"type\":\"DatetimeTickFormatter\"},{\"attributes\":{},\"id\":\"4612\",\"type\":\"PanTool\"},{\"attributes\":{\"days\":[1,4,7,10,13,16,19,22,25,28]},\"id\":\"4787\",\"type\":\"DaysTicker\"},{\"attributes\":{\"plot\":null,\"text\":\"trend\"},\"id\":\"4591\",\"type\":\"Title\"},{\"attributes\":{\"days\":[1,8,15,22]},\"id\":\"4788\",\"type\":\"DaysTicker\"},{\"attributes\":{\"active_drag\":\"auto\",\"active_inspect\":\"auto\",\"active_multi\":null,\"active_scroll\":\"auto\",\"active_tap\":\"auto\",\"tools\":[{\"id\":\"4612\",\"type\":\"PanTool\"},{\"id\":\"4613\",\"type\":\"WheelZoomTool\"},{\"id\":\"4614\",\"type\":\"BoxZoomTool\"},{\"id\":\"4615\",\"type\":\"SaveTool\"},{\"id\":\"4616\",\"type\":\"ResetTool\"},{\"id\":\"4617\",\"type\":\"HelpTool\"}]},\"id\":\"4618\",\"type\":\"Toolbar\"},{\"attributes\":{\"days\":[1,15]},\"id\":\"4789\",\"type\":\"DaysTicker\"},{\"attributes\":{\"months\":[0,1,2,3,4,5,6,7,8,9,10,11]},\"id\":\"4790\",\"type\":\"MonthsTicker\"},{\"attributes\":{\"source\":{\"id\":\"4627\",\"type\":\"ColumnDataSource\"}},\"id\":\"4631\",\"type\":\"CDSView\"},{\"attributes\":{\"months\":[0,2,4,6,8,10]},\"id\":\"4791\",\"type\":\"MonthsTicker\"},{\"attributes\":{\"months\":[0,4,8]},\"id\":\"4792\",\"type\":\"MonthsTicker\"},{\"attributes\":{\"num_minor_ticks\":5,\"tickers\":[{\"id\":\"4783\",\"type\":\"AdaptiveTicker\"},{\"id\":\"4784\",\"type\":\"AdaptiveTicker\"},{\"id\":\"4785\",\"type\":\"AdaptiveTicker\"},{\"id\":\"4786\",\"type\":\"DaysTicker\"},{\"id\":\"4787\",\"type\":\"DaysTicker\"},{\"id\":\"4788\",\"type\":\"DaysTicker\"},{\"id\":\"4789\",\"type\":\"DaysTicker\"},{\"id\":\"4790\",\"type\":\"MonthsTicker\"},{\"id\":\"4791\",\"type\":\"MonthsTicker\"},{\"id\":\"4792\",\"type\":\"MonthsTicker\"},{\"id\":\"4793\",\"type\":\"MonthsTicker\"},{\"id\":\"4794\",\"type\":\"YearsTicker\"}]},\"id\":\"4603\",\"type\":\"DatetimeTicker\"},{\"attributes\":{\"data_source\":{\"id\":\"4627\",\"type\":\"ColumnDataSource\"},\"glyph\":{\"id\":\"4628\",\"type\":\"Line\"},\"hover_glyph\":null,\"muted_glyph\":null,\"nonselection_glyph\":{\"id\":\"4629\",\"type\":\"Line\"},\"selection_glyph\":null,\"view\":{\"id\":\"4631\",\"type\":\"CDSView\"}},\"id\":\"4630\",\"type\":\"GlyphRenderer\"},{\"attributes\":{\"callback\":null,\"data\":{\"x\":[0,1,2,3,4,5,6,7,8,9,10,11,12,13,14,15,16,17,18,19,20,21,22,23,24,25,26,27,28,29,30,31,32,33,34,35,36,37,38,39,40,41,42,43,44,45,46,47,48,49,50,51,52,53,54,55,56,57,58,59,60,61,62,63,64,65,66,67,68,69,70,71,72,73,74,75,76,77,78,79,80,81,82,83,84,85,86,87,88,89,90,91,92,93,94,95,96,97,98,99,100,101,102,103,104,105,106,107,108,109,110,111,112,113,114,115,116,117,118,119,120,121,122,123,124,125,126,127,128,129,130,131,132,133,134,135,136,137,138,139,140,141,142,143,144,145,146,147,148,149,150,151,152,153,154,155,156,157,158,159,160,161,162,163,164,165,166,167,168,169,170,171,172,173,174,175,176,177,178,179,180,181,182,183,184,185,186,187,188,189,190,191,192,193,194,195,196,197,198,199,200,201,202,203,204,205,206,207,208,209,210,211,212,213,214,215,216,217,218,219,220,221,222,223,224,225,226,227,228,229,230,231,232,233,234,235,236,237,238,239,240,241,242,243,244,245,246,247,248,249,250,251,252,253,254,255,256,257,258,259,260,261,262,263,264,265,266,267,268,269,270,271,272,273,274,275,276,277,278,279,280,281,282,283,284,285,286,287,288,289,290,291,292,293,294,295,296,297,298,299,300,301,302,303,304,305,306,307,308,309,310,311,312,313,314,315,316,317,318,319,320,321,322,323,324,325,326,327,328,329,330,331,332,333,334,335,336,337,338,339,340,341,342,343,344,345,346,347,348,349,350,351,352,353,354,355,356,357,358,359,360,361,362,363,364,365,366,367,368,369,370,371,372,373,374,375,376,377,378,379,380,381,382,383,384,385,386,387,388,389,390,391,392,393,394,395,396,397,398,399,400,401,402,403,404,405,406,407,408,409,410,411,412,413,414,415,416,417,418,419,420,421,422,423,424,425,426,427,428,429,430,431,432,433,434,435,436,437,438,439,440,441,442,443,444,445,446,447,448,449,450,451,452,453,454,455,456,457,458,459,460,461,462,463,464,465,466,467,468,469,470,471,472,473,474,475,476,477,478,479,480,481,482,483,484,485,486,487,488,489,490,491,492,493,494,495,496,497,498,499,500,501,502,503,504,505,506,507,508,509,510,511,512,513,514,515,516,517,518,519,520,521,522,523,524,525,526,527,528,529,530,531,532,533,534,535,536,537,538,539,540,541,542,543,544,545,546,547,548,549,550,551,552,553,554,555,556,557,558,559,560,561,562,563,564,565,566,567,568,569,570,571,572,573,574,575,576,577,578,579,580,581,582,583,584,585,586,587,588,589,590,591,592,593,594,595,596,597,598,599,600,601,602,603,604,605,606,607,608,609,610,611,612,613,614,615,616,617,618,619,620,621,622,623,624,625,626,627,628,629,630,631,632,633,634,635,636,637,638,639,640,641,642,643,644,645,646,647,648,649,650,651,652,653,654,655,656,657,658,659,660,661,662,663,664,665,666,667,668,669,670,671,672,673,674,675,676,677,678,679,680,681,682,683,684,685,686,687,688,689,690,691,692,693,694,695,696,697,698,699,700,701,702,703,704,705,706,707,708,709,710,711,712,713,714,715,716,717,718,719,720,721,722,723,724,725,726,727,728,729,730,731,732,733,734,735,736,737,738,739,740,741,742,743,744,745,746,747,748,749,750,751,752,753,754,755,756,757,758,759,760,761,762,763,764,765,766,767,768,769,770,771,772,773,774,775,776,777,778,779,780,781,782,783,784,785,786,787,788,789,790,791,792,793,794,795,796,797,798,799,800,801,802,803,804,805,806,807,808,809,810,811,812,813,814,815,816,817,818,819,820,821,822,823,824,825,826,827,828,829,830,831,832,833,834,835,836,837,838,839,840,841,842,843,844,845,846,847,848,849,850,851,852,853,854,855,856,857,858,859,860,861,862,863,864,865,866,867,868,869,870,871,872,873,874,875,876,877,878,879,880,881,882,883,884,885,886,887,888,889,890,891,892,893,894,895,896,897,898,899,900,901,902,903,904,905,906,907,908,909,910,911,912,913,914,915,916,917,918,919,920,921,922,923,924,925,926,927,928,929,930,931,932,933,934,935,936,937,938,939,940,941,942,943,944,945,946,947,948,949,950,951,952,953,954,955,956,957,958,959,960,961,962,963,964,965,966,967,968,969,970,971,972,973,974,975,976,977,978,979,980,981,982,983,984,985,986,987,988,989,990,991,992,993,994,995,996,997,998,999,1000,1001,1002,1003,1004,1005,1006,1007,1008,1009,1010,1011,1012,1013,1014,1015,1016,1017,1018,1019,1020,1021,1022,1023,1024,1025,1026,1027,1028,1029,1030,1031,1032,1033,1034,1035,1036,1037,1038,1039,1040,1041,1042,1043,1044,1045,1046,1047,1048,1049,1050,1051,1052,1053,1054,1055,1056,1057,1058,1059,1060,1061,1062,1063,1064,1065,1066,1067,1068,1069,1070,1071,1072,1073,1074,1075,1076,1077,1078,1079,1080,1081,1082,1083,1084,1085,1086,1087,1088,1089,1090,1091,1092,1093,1094,1095,1096,1097,1098,1099,1100,1101,1102,1103,1104,1105,1106,1107,1108,1109,1110,1111,1112,1113,1114,1115,1116,1117,1118,1119,1120,1121,1122,1123,1124,1125,1126,1127,1128,1129,1130,1131,1132,1133,1134,1135,1136,1137,1138,1139,1140,1141,1142,1143,1144,1145,1146,1147,1148,1149,1150,1151,1152,1153,1154,1155,1156,1157,1158,1159,1160,1161,1162,1163,1164,1165,1166,1167,1168,1169,1170,1171,1172,1173,1174,1175,1176,1177,1178,1179,1180,1181,1182,1183,1184,1185,1186,1187,1188,1189,1190,1191,1192,1193,1194,1195,1196,1197,1198,1199,1200,1201,1202,1203,1204,1205,1206,1207,1208,1209,1210,1211,1212,1213,1214,1215,1216,1217,1218,1219,1220,1221,1222,1223,1224,1225,1226,1227,1228,1229,1230,1231,1232,1233,1234,1235,1236,1237,1238,1239,1240,1241,1242,1243,1244,1245,1246,1247,1248,1249,1250,1251,1252,1253,1254,1255,1256,1257,1258,1259,1260,1261,1262,1263,1264,1265,1266,1267,1268,1269,1270,1271,1272,1273,1274,1275,1276,1277,1278,1279,1280,1281,1282,1283,1284,1285,1286,1287,1288,1289,1290,1291,1292,1293,1294,1295,1296,1297,1298,1299,1300,1301,1302,1303,1304,1305,1306,1307,1308,1309,1310,1311,1312,1313,1314,1315,1316,1317,1318,1319,1320,1321,1322,1323,1324,1325,1326,1327,1328,1329,1330,1331,1332,1333,1334,1335,1336,1337,1338,1339,1340,1341,1342,1343,1344,1345,1346,1347,1348,1349,1350,1351,1352,1353,1354,1355,1356,1357,1358,1359,1360,1361,1362,1363,1364,1365,1366,1367,1368,1369,1370,1371,1372,1373,1374,1375,1376,1377,1378,1379,1380,1381,1382,1383,1384,1385,1386,1387,1388,1389,1390,1391,1392,1393,1394,1395,1396,1397,1398,1399,1400,1401,1402,1403,1404,1405,1406,1407,1408,1409,1410,1411,1412,1413,1414,1415,1416,1417,1418,1419,1420,1421,1422,1423,1424,1425,1426,1427,1428,1429,1430,1431,1432,1433,1434,1435,1436,1437,1438,1439,1440,1441,1442,1443,1444,1445,1446,1447,1448,1449,1450,1451,1452,1453,1454,1455,1456,1457,1458,1459,1460,1461,1462,1463,1464,1465,1466,1467,1468,1469,1470,1471,1472,1473,1474,1475,1476,1477,1478,1479,1480,1481,1482,1483,1484,1485,1486,1487,1488,1489,1490,1491,1492,1493,1494,1495,1496,1497,1498,1499,1500,1501,1502,1503,1504,1505,1506,1507,1508,1509,1510,1511,1512,1513,1514,1515,1516,1517,1518,1519,1520,1521,1522,1523,1524,1525,1526,1527,1528,1529,1530,1531,1532,1533,1534,1535,1536,1537,1538,1539,1540,1541,1542,1543,1544,1545,1546,1547,1548,1549,1550,1551,1552,1553,1554,1555,1556,1557,1558,1559,1560,1561,1562,1563,1564,1565,1566,1567,1568,1569,1570,1571,1572,1573,1574,1575,1576,1577,1578,1579,1580,1581,1582,1583,1584,1585,1586,1587,1588,1589,1590,1591,1592,1593,1594,1595,1596,1597,1598,1599,1600,1601,1602,1603,1604,1605,1606,1607,1608,1609,1610,1611,1612,1613,1614,1615,1616,1617,1618,1619,1620,1621,1622,1623,1624,1625,1626,1627,1628,1629,1630,1631,1632,1633,1634,1635,1636,1637,1638,1639,1640,1641,1642,1643,1644,1645,1646,1647,1648,1649,1650,1651,1652,1653,1654,1655,1656,1657,1658,1659,1660,1661,1662,1663,1664,1665,1666,1667,1668,1669,1670,1671,1672,1673,1674,1675,1676,1677,1678,1679,1680,1681,1682,1683,1684,1685,1686,1687,1688,1689,1690,1691,1692,1693,1694,1695,1696,1697,1698,1699,1700,1701,1702,1703,1704,1705,1706,1707,1708,1709,1710,1711,1712,1713,1714,1715,1716,1717,1718,1719,1720,1721,1722,1723,1724,1725,1726,1727,1728,1729,1730,1731,1732,1733,1734,1735,1736,1737,1738,1739,1740,1741,1742,1743,1744,1745,1746,1747,1748,1749,1750,1751,1752,1753,1754,1755,1756,1757,1758,1759,1760,1761,1762,1763,1764,1765,1766,1767,1768,1769,1770,1771,1772,1773,1774,1775,1776,1777,1778,1779,1780,1781,1782,1783,1784,1785,1786,1787,1788,1789,1790,1791,1792,1793,1794,1795,1796,1797,1798,1799,1800,1801,1802,1803,1804,1805,1806,1807,1808,1809,1810,1811,1812,1813,1814,1815,1816,1817,1818,1819,1820,1821,1822,1823,1824,1825,1826,1827,1828,1829,1830,1831,1832,1833,1834,1835,1836,1837,1838,1839,1840,1841,1842,1843,1844],\"y\":{\"__ndarray__\":\"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\",\"dtype\":\"float64\",\"shape\":[1845]}},\"selected\":{\"id\":\"4796\",\"type\":\"Selection\"},\"selection_policy\":{\"id\":\"4795\",\"type\":\"UnionRenderers\"}},\"id\":\"4627\",\"type\":\"ColumnDataSource\"},{\"attributes\":{\"months\":[0,6]},\"id\":\"4793\",\"type\":\"MonthsTicker\"},{\"attributes\":{},\"id\":\"4794\",\"type\":\"YearsTicker\"},{\"attributes\":{\"formatter\":{\"id\":\"4782\",\"type\":\"BasicTickFormatter\"},\"plot\":{\"id\":\"4592\",\"subtype\":\"Figure\",\"type\":\"Plot\"},\"ticker\":{\"id\":\"4608\",\"type\":\"BasicTicker\"}},\"id\":\"4607\",\"type\":\"LinearAxis\"},{\"attributes\":{},\"id\":\"4795\",\"type\":\"UnionRenderers\"},{\"attributes\":{\"plot\":{\"id\":\"4592\",\"subtype\":\"Figure\",\"type\":\"Plot\"},\"ticker\":{\"id\":\"4603\",\"type\":\"DatetimeTicker\"}},\"id\":\"4606\",\"type\":\"Grid\"},{\"attributes\":{},\"id\":\"4796\",\"type\":\"Selection\"},{\"attributes\":{\"callback\":null},\"id\":\"4596\",\"type\":\"DataRange1d\"},{\"attributes\":{},\"id\":\"4617\",\"type\":\"HelpTool\"},{\"attributes\":{\"callback\":null},\"id\":\"4594\",\"type\":\"DataRange1d\"}],\"root_ids\":[\"4592\"]},\"title\":\"Bokeh Application\",\"version\":\"1.0.4\"}};\n",
       "  var render_items = [{\"docid\":\"0d59fca2-1ebf-472c-aecc-d8ccb46820ae\",\"roots\":{\"4592\":\"0e0e016d-9265-4411-9aa1-813cbdb1143f\"}}];\n",
       "  root.Bokeh.embed.embed_items_notebook(docs_json, render_items);\n",
       "\n",
       "  }\n",
       "  if (root.Bokeh !== undefined) {\n",
       "    embed_document(root);\n",
       "  } else {\n",
       "    var attempts = 0;\n",
       "    var timer = setInterval(function(root) {\n",
       "      if (root.Bokeh !== undefined) {\n",
       "        embed_document(root);\n",
       "        clearInterval(timer);\n",
       "      }\n",
       "      attempts++;\n",
       "      if (attempts > 100) {\n",
       "        console.log(\"Bokeh: ERROR: Unable to run BokehJS code because BokehJS library is missing\");\n",
       "        clearInterval(timer);\n",
       "      }\n",
       "    }, 10, root)\n",
       "  }\n",
       "})(window);"
      ],
      "application/vnd.bokehjs_exec.v0+json": ""
     },
     "metadata": {
      "application/vnd.bokehjs_exec.v0+json": {
       "id": "4592"
      }
     },
     "output_type": "display_data"
    }
   ],
   "source": [
    "p_index = figure(title=\"trend\", plot_width=800, plot_height=250, x_axis_type=\"datetime\")\n",
    "\n",
    "p_index.line(data.index, data.close, color='navy', alpha=0.5)\n",
    "output_notebook()\n",
    "show(p_index)"
   ]
  },
  {
   "cell_type": "code",
   "execution_count": 55,
   "metadata": {},
   "outputs": [
    {
     "data": {
      "text/plain": [
       "3659"
      ]
     },
     "execution_count": 55,
     "metadata": {},
     "output_type": "execute_result"
    }
   ],
   "source": [
    "len(feed)"
   ]
  },
  {
   "cell_type": "code",
   "execution_count": 67,
   "metadata": {
    "scrolled": false
   },
   "outputs": [
    {
     "name": "stdout",
     "output_type": "stream",
     "text": [
      "['2019-07-23', '2019-07-24', '2019-07-25', '2019-07-26', '2019-07-29', '2019-07-30', '2019-07-31', '2019-08-01', '2019-08-02', '2019-08-05']\n",
      "2019-07-23\n",
      "2019-07-24\n",
      "2019-07-25\n",
      "2019-07-26\n",
      "2019-07-29\n",
      "2019-07-30\n",
      "2019-07-31\n",
      "2019-08-01\n",
      "2019-08-02\n",
      "2019-08-05\n",
      "{'x_range': ['2019-07-23', '2019-07-24', '2019-07-25', '2019-07-26', '2019-07-29', '2019-07-30', '2019-07-31', '2019-08-01', '2019-08-02', '2019-08-05'], 'limit_up': [49, 53, 36, 34, 43, 38, 29, 36, 30, 46], 'limit_down': [21, 0, 1, 10, 4, 3, 4, 3, 4, 8]}\n"
     ]
    }
   ],
   "source": [
    "# latest 10 days up/down bars\n",
    "sh_index.index[-10:]\n",
    "\n",
    "\n",
    "l10 = {}\n",
    "l10[\"x_range\"] = [dt.strftime(\"%Y-%m-%d\") for dt in sh_index.index[-10:]]\n",
    "l10[\"limit_up\"] = []\n",
    "l10[\"limit_down\"] = []\n",
    "print(l10[\"x_range\"])\n",
    "\n",
    "for dt in l10[\"x_range\"]:\n",
    "    print(dt)\n",
    "    limit_up_count = 0\n",
    "    limit_down_count = 0\n",
    "\n",
    "    for code, hist in feed.items():\n",
    "        if dt not in hist.index:\n",
    "            continue\n",
    "        \n",
    "        df = hist.loc[dt]\n",
    "        if isinstance(df, pd.core.series.Series):\n",
    "            if df.pct_chg > 9.5:\n",
    "                limit_up_count += 1\n",
    "            elif df.pct_chg < -9.5:\n",
    "                limit_down_count += 1\n",
    "\n",
    "    l10[\"limit_up\"].append(limit_up_count)\n",
    "    l10[\"limit_down\"].append(limit_down_count)\n",
    "\n",
    "print(l10)"
   ]
  },
  {
   "cell_type": "code",
   "execution_count": 80,
   "metadata": {},
   "outputs": [
    {
     "data": {
      "text/html": [
       "\n",
       "\n",
       "\n",
       "\n",
       "\n",
       "\n",
       "  <div class=\"bk-root\" id=\"00372899-c3c3-44d5-8681-307a9bef9371\" data-root-id=\"4920\"></div>\n"
      ]
     },
     "metadata": {},
     "output_type": "display_data"
    },
    {
     "data": {
      "application/javascript": [
       "(function(root) {\n",
       "  function embed_document(root) {\n",
       "    \n",
       "  var docs_json = {\"f3aa77ae-c265-43ed-b73f-7464877cc6a7\":{\"roots\":{\"references\":[{\"attributes\":{\"below\":[{\"id\":\"4930\",\"type\":\"CategoricalAxis\"}],\"left\":[{\"id\":\"4934\",\"type\":\"LinearAxis\"}],\"plot_height\":350,\"plot_width\":800,\"renderers\":[{\"id\":\"4930\",\"type\":\"CategoricalAxis\"},{\"id\":\"4933\",\"type\":\"Grid\"},{\"id\":\"4934\",\"type\":\"LinearAxis\"},{\"id\":\"4938\",\"type\":\"Grid\"},{\"id\":\"4951\",\"type\":\"Legend\"},{\"id\":\"4944\",\"type\":\"GlyphRenderer\"},{\"id\":\"4957\",\"type\":\"GlyphRenderer\"}],\"title\":{\"id\":\"4919\",\"type\":\"Title\"},\"toolbar\":{\"id\":\"4939\",\"type\":\"Toolbar\"},\"toolbar_location\":null,\"x_range\":{\"id\":\"4922\",\"type\":\"FactorRange\"},\"x_scale\":{\"id\":\"4926\",\"type\":\"CategoricalScale\"},\"y_range\":{\"id\":\"4924\",\"type\":\"Range1d\"},\"y_scale\":{\"id\":\"4928\",\"type\":\"LinearScale\"}},\"id\":\"4920\",\"subtype\":\"Figure\",\"type\":\"Plot\"},{\"attributes\":{\"source\":{\"id\":\"4918\",\"type\":\"ColumnDataSource\"}},\"id\":\"4958\",\"type\":\"CDSView\"},{\"attributes\":{\"active_drag\":\"auto\",\"active_inspect\":\"auto\",\"active_multi\":null,\"active_scroll\":\"auto\",\"active_tap\":\"auto\"},\"id\":\"4939\",\"type\":\"Toolbar\"},{\"attributes\":{},\"id\":\"4964\",\"type\":\"UnionRenderers\"},{\"attributes\":{},\"id\":\"4965\",\"type\":\"Selection\"},{\"attributes\":{\"fill_color\":{\"value\":\"#2ca25f\"},\"line_color\":{\"value\":\"#2ca25f\"},\"top\":{\"field\":\"limit_down\"},\"width\":{\"value\":0.2},\"x\":{\"field\":\"x_range\",\"transform\":{\"id\":\"4940\",\"type\":\"Dodge\"}}},\"id\":\"4942\",\"type\":\"VBar\"},{\"attributes\":{\"callback\":null,\"data\":{\"limit_down\":[21,0,1,10,4,3,4,3,4,8],\"limit_up\":[49,53,36,34,43,38,29,36,30,46],\"x_range\":[\"2019-07-23\",\"2019-07-24\",\"2019-07-25\",\"2019-07-26\",\"2019-07-29\",\"2019-07-30\",\"2019-07-31\",\"2019-08-01\",\"2019-08-02\",\"2019-08-05\"]},\"selected\":{\"id\":\"4965\",\"type\":\"Selection\"},\"selection_policy\":{\"id\":\"4964\",\"type\":\"UnionRenderers\"}},\"id\":\"4918\",\"type\":\"ColumnDataSource\"},{\"attributes\":{\"fill_alpha\":{\"value\":0.1},\"fill_color\":{\"value\":\"#1f77b4\"},\"line_alpha\":{\"value\":0.1},\"line_color\":{\"value\":\"#1f77b4\"},\"top\":{\"field\":\"limit_down\"},\"width\":{\"value\":0.2},\"x\":{\"field\":\"x_range\",\"transform\":{\"id\":\"4940\",\"type\":\"Dodge\"}}},\"id\":\"4943\",\"type\":\"VBar\"},{\"attributes\":{\"range\":{\"id\":\"4922\",\"type\":\"FactorRange\"},\"value\":-0.25},\"id\":\"4940\",\"type\":\"Dodge\"},{\"attributes\":{\"range\":{\"id\":\"4922\",\"type\":\"FactorRange\"}},\"id\":\"4953\",\"type\":\"Dodge\"},{\"attributes\":{\"data_source\":{\"id\":\"4918\",\"type\":\"ColumnDataSource\"},\"glyph\":{\"id\":\"4942\",\"type\":\"VBar\"},\"hover_glyph\":null,\"muted_glyph\":null,\"nonselection_glyph\":{\"id\":\"4943\",\"type\":\"VBar\"},\"selection_glyph\":null,\"view\":{\"id\":\"4945\",\"type\":\"CDSView\"}},\"id\":\"4944\",\"type\":\"GlyphRenderer\"},{\"attributes\":{},\"id\":\"4948\",\"type\":\"CategoricalTickFormatter\"},{\"attributes\":{\"source\":{\"id\":\"4918\",\"type\":\"ColumnDataSource\"}},\"id\":\"4945\",\"type\":\"CDSView\"},{\"attributes\":{\"plot\":null,\"text\":\"Date\"},\"id\":\"4919\",\"type\":\"Title\"},{\"attributes\":{},\"id\":\"4950\",\"type\":\"BasicTickFormatter\"},{\"attributes\":{\"fill_color\":{\"value\":\"#e84d60\"},\"line_color\":{\"value\":\"#e84d60\"},\"top\":{\"field\":\"limit_up\"},\"width\":{\"value\":0.2},\"x\":{\"field\":\"x_range\",\"transform\":{\"id\":\"4953\",\"type\":\"Dodge\"}}},\"id\":\"4955\",\"type\":\"VBar\"},{\"attributes\":{\"callback\":null,\"factors\":[\"2019-07-23\",\"2019-07-24\",\"2019-07-25\",\"2019-07-26\",\"2019-07-29\",\"2019-07-30\",\"2019-07-31\",\"2019-08-01\",\"2019-08-02\",\"2019-08-05\"],\"range_padding\":0.1},\"id\":\"4922\",\"type\":\"FactorRange\"},{\"attributes\":{\"items\":[{\"id\":\"4952\",\"type\":\"LegendItem\"},{\"id\":\"4966\",\"type\":\"LegendItem\"}],\"orientation\":\"horizontal\",\"plot\":{\"id\":\"4920\",\"subtype\":\"Figure\",\"type\":\"Plot\"}},\"id\":\"4951\",\"type\":\"Legend\"},{\"attributes\":{\"callback\":null,\"end\":65},\"id\":\"4924\",\"type\":\"Range1d\"},{\"attributes\":{\"label\":{\"value\":\"\\u8dcc\\u505c\"},\"renderers\":[{\"id\":\"4944\",\"type\":\"GlyphRenderer\"}]},\"id\":\"4952\",\"type\":\"LegendItem\"},{\"attributes\":{},\"id\":\"4926\",\"type\":\"CategoricalScale\"},{\"attributes\":{},\"id\":\"4928\",\"type\":\"LinearScale\"},{\"attributes\":{\"formatter\":{\"id\":\"4948\",\"type\":\"CategoricalTickFormatter\"},\"plot\":{\"id\":\"4920\",\"subtype\":\"Figure\",\"type\":\"Plot\"},\"ticker\":{\"id\":\"4931\",\"type\":\"CategoricalTicker\"}},\"id\":\"4930\",\"type\":\"CategoricalAxis\"},{\"attributes\":{\"fill_alpha\":{\"value\":0.1},\"fill_color\":{\"value\":\"#1f77b4\"},\"line_alpha\":{\"value\":0.1},\"line_color\":{\"value\":\"#1f77b4\"},\"top\":{\"field\":\"limit_up\"},\"width\":{\"value\":0.2},\"x\":{\"field\":\"x_range\",\"transform\":{\"id\":\"4953\",\"type\":\"Dodge\"}}},\"id\":\"4956\",\"type\":\"VBar\"},{\"attributes\":{\"label\":{\"value\":\"\\u6da8\\u505c\"},\"renderers\":[{\"id\":\"4957\",\"type\":\"GlyphRenderer\"}]},\"id\":\"4966\",\"type\":\"LegendItem\"},{\"attributes\":{},\"id\":\"4931\",\"type\":\"CategoricalTicker\"},{\"attributes\":{\"grid_line_color\":{\"value\":null},\"plot\":{\"id\":\"4920\",\"subtype\":\"Figure\",\"type\":\"Plot\"},\"ticker\":{\"id\":\"4931\",\"type\":\"CategoricalTicker\"}},\"id\":\"4933\",\"type\":\"Grid\"},{\"attributes\":{\"formatter\":{\"id\":\"4950\",\"type\":\"BasicTickFormatter\"},\"plot\":{\"id\":\"4920\",\"subtype\":\"Figure\",\"type\":\"Plot\"},\"ticker\":{\"id\":\"4935\",\"type\":\"BasicTicker\"}},\"id\":\"4934\",\"type\":\"LinearAxis\"},{\"attributes\":{\"data_source\":{\"id\":\"4918\",\"type\":\"ColumnDataSource\"},\"glyph\":{\"id\":\"4955\",\"type\":\"VBar\"},\"hover_glyph\":null,\"muted_glyph\":null,\"nonselection_glyph\":{\"id\":\"4956\",\"type\":\"VBar\"},\"selection_glyph\":null,\"view\":{\"id\":\"4958\",\"type\":\"CDSView\"}},\"id\":\"4957\",\"type\":\"GlyphRenderer\"},{\"attributes\":{},\"id\":\"4935\",\"type\":\"BasicTicker\"},{\"attributes\":{\"dimension\":1,\"plot\":{\"id\":\"4920\",\"subtype\":\"Figure\",\"type\":\"Plot\"},\"ticker\":{\"id\":\"4935\",\"type\":\"BasicTicker\"}},\"id\":\"4938\",\"type\":\"Grid\"}],\"root_ids\":[\"4920\"]},\"title\":\"Bokeh Application\",\"version\":\"1.0.4\"}};\n",
       "  var render_items = [{\"docid\":\"f3aa77ae-c265-43ed-b73f-7464877cc6a7\",\"roots\":{\"4920\":\"00372899-c3c3-44d5-8681-307a9bef9371\"}}];\n",
       "  root.Bokeh.embed.embed_items_notebook(docs_json, render_items);\n",
       "\n",
       "  }\n",
       "  if (root.Bokeh !== undefined) {\n",
       "    embed_document(root);\n",
       "  } else {\n",
       "    var attempts = 0;\n",
       "    var timer = setInterval(function(root) {\n",
       "      if (root.Bokeh !== undefined) {\n",
       "        embed_document(root);\n",
       "        clearInterval(timer);\n",
       "      }\n",
       "      attempts++;\n",
       "      if (attempts > 100) {\n",
       "        console.log(\"Bokeh: ERROR: Unable to run BokehJS code because BokehJS library is missing\");\n",
       "        clearInterval(timer);\n",
       "      }\n",
       "    }, 10, root)\n",
       "  }\n",
       "})(window);"
      ],
      "application/vnd.bokehjs_exec.v0+json": ""
     },
     "metadata": {
      "application/vnd.bokehjs_exec.v0+json": {
       "id": "4920"
      }
     },
     "output_type": "display_data"
    }
   ],
   "source": [
    "\n",
    "from bokeh.core.properties import value\n",
    "from bokeh.models import ColumnDataSource\n",
    "from bokeh.plotting import figure\n",
    "from bokeh.transform import dodge\n",
    "\n",
    "\n",
    "fruits = ['Apples', 'Pears', 'Nectarines', 'Plums', 'Grapes', 'Strawberries']\n",
    "years = ['2015', '2016', '2017']\n",
    "\n",
    "cds = {'fruits' : fruits,\n",
    "        '2015'   : [2, 1, 4, 3, 2, 4],\n",
    "        '2016'   : [5, 3, 3, 2, 4, 6],\n",
    "        '2017'   : [3, 2, 4, 4, 5, 3]}\n",
    "\n",
    "source = ColumnDataSource(data=l10)\n",
    "\n",
    "p_dist = figure(x_range=l10[\"x_range\"], y_range=(0, max(l10[\"limit_down\"] + l10[\"limit_up\"]) + 12), plot_height=350, plot_width=800, title=\"Date\",\n",
    "           toolbar_location=None, tools=\"\")\n",
    "\n",
    "p_dist.vbar(x=dodge('x_range', -0.25, range=p_dist.x_range), top='limit_down', width=0.2, source=source,\n",
    "       color=\"#2ca25f\", legend=value(\"跌停\"))\n",
    "\n",
    "p_dist.vbar(x=dodge('x_range',  0.0,  range=p_dist.x_range), top='limit_up', width=0.2, source=source,\n",
    "       color=\"#e84d60\", legend=value(\"涨停\"))\n",
    "\n",
    "p_dist.x_range.range_padding = 0.1\n",
    "p_dist.xgrid.grid_line_color = None\n",
    "p_dist.legend.location = \"top_right\"\n",
    "p_dist.legend.orientation = \"horizontal\"\n",
    "\n",
    "show(p_dist)\n",
    "\n"
   ]
  },
  {
   "cell_type": "code",
   "execution_count": 69,
   "metadata": {},
   "outputs": [
    {
     "name": "stdout",
     "output_type": "stream",
     "text": [
      "[  10   62  996 2170  293   59   12   42    1    2    0    1    0    0\n",
      "    0    0    0    0    0    1]\n"
     ]
    }
   ],
   "source": [
    "from bokeh.plotting import gridplot\n",
    "import numpy as np\n",
    "\n",
    "pct_chg_lst = []\n",
    "dt = \"2019-08-05\"\n",
    "\n",
    "for code, hist in feed.items():\n",
    "    if dt not in hist.index:\n",
    "        continue\n",
    "    \n",
    "    df = hist.loc[dt]\n",
    "    pct_chg_lst.append(df.pct_chg)\n",
    "\n",
    "hist1, edges1 = np.histogram(pct_chg_lst, bins=20)\n",
    "print(hist1)"
   ]
  },
  {
   "cell_type": "code",
   "execution_count": 81,
   "metadata": {
    "scrolled": true
   },
   "outputs": [
    {
     "data": {
      "text/html": [
       "\n",
       "\n",
       "\n",
       "\n",
       "\n",
       "\n",
       "  <div class=\"bk-root\" id=\"d0f4bde1-cf82-4968-a469-9f8870756ccc\" data-root-id=\"5182\"></div>\n"
      ]
     },
     "metadata": {},
     "output_type": "display_data"
    },
    {
     "data": {
      "application/javascript": [
       "(function(root) {\n",
       "  function embed_document(root) {\n",
       "    \n",
       "  var docs_json = {\"452872cf-638a-49f9-a514-d439a9ef724a\":{\"roots\":{\"references\":[{\"attributes\":{\"below\":[{\"id\":\"5192\",\"type\":\"LinearAxis\"}],\"left\":[{\"id\":\"5197\",\"type\":\"LinearAxis\"}],\"plot_height\":400,\"plot_width\":800,\"renderers\":[{\"id\":\"5192\",\"type\":\"LinearAxis\"},{\"id\":\"5196\",\"type\":\"Grid\"},{\"id\":\"5197\",\"type\":\"LinearAxis\"},{\"id\":\"5201\",\"type\":\"Grid\"},{\"id\":\"5210\",\"type\":\"BoxAnnotation\"},{\"id\":\"5220\",\"type\":\"GlyphRenderer\"}],\"title\":{\"id\":\"5181\",\"type\":\"Title\"},\"toolbar\":{\"id\":\"5208\",\"type\":\"Toolbar\"},\"x_range\":{\"id\":\"5184\",\"type\":\"DataRange1d\"},\"x_scale\":{\"id\":\"5188\",\"type\":\"LinearScale\"},\"y_range\":{\"id\":\"5186\",\"type\":\"Range1d\"},\"y_scale\":{\"id\":\"5190\",\"type\":\"LinearScale\"}},\"id\":\"5182\",\"subtype\":\"Figure\",\"type\":\"Plot\"},{\"attributes\":{\"bottom\":{\"value\":0},\"fill_alpha\":{\"value\":0.1},\"fill_color\":{\"value\":\"#1f77b4\"},\"left\":{\"field\":\"left\"},\"line_alpha\":{\"value\":0.1},\"line_color\":{\"value\":\"#1f77b4\"},\"right\":{\"field\":\"right\"},\"top\":{\"field\":\"top\"}},\"id\":\"5219\",\"type\":\"Quad\"},{\"attributes\":{\"data_source\":{\"id\":\"5217\",\"type\":\"ColumnDataSource\"},\"glyph\":{\"id\":\"5218\",\"type\":\"Quad\"},\"hover_glyph\":null,\"muted_glyph\":null,\"nonselection_glyph\":{\"id\":\"5219\",\"type\":\"Quad\"},\"selection_glyph\":null,\"view\":{\"id\":\"5221\",\"type\":\"CDSView\"}},\"id\":\"5220\",\"type\":\"GlyphRenderer\"},{\"attributes\":{},\"id\":\"5202\",\"type\":\"PanTool\"},{\"attributes\":{},\"id\":\"5203\",\"type\":\"WheelZoomTool\"},{\"attributes\":{\"callback\":null,\"data\":{\"left\":{\"__ndarray__\":\"ih9j7loiJMAr9pfdk3cdwEKtad5xqhLAYJHtfD91/7+AJJf/kH7nP/BaQj7oeQtAZHZPHhaKGECm374OnKshQBoEVg4tEidAjijtDb54LECBJsKGp+8wQLy4jQbwojNA90pZhjhWNkAx3SQGgQk5QGtv8IXJvDtApQG8BRJwPkDwycNCrZFAQAyTqYJR60FAKlyPwvVEQ0BGJXUCmp5EQA==\",\"dtype\":\"float64\",\"shape\":[20]},\"right\":{\"__ndarray__\":\"K/aX3ZN3HcBCrWnecaoSwGCR7Xw/df+/gCSX/5B+5z/wWkI+6HkLQGR2Tx4WihhApt++DpyrIUAaBFYOLRInQI4o7Q2+eCxAgSbChqfvMEC8uI0G8KIzQPdKWYY4VjZAMd0kBoEJOUBrb/CFybw7QKUBvAUScD5A8MnDQq2RQEAMk6mCUetBQCpcj8L1RENARiV1ApqeREBj7lpCPvhFQA==\",\"dtype\":\"float64\",\"shape\":[20]},\"top\":[10,62,996,2170,293,59,12,42,1,2,0,1,0,0,0,0,0,0,0,1]},\"selected\":{\"id\":\"5400\",\"type\":\"Selection\"},\"selection_policy\":{\"id\":\"5399\",\"type\":\"UnionRenderers\"}},\"id\":\"5217\",\"type\":\"ColumnDataSource\"},{\"attributes\":{},\"id\":\"5207\",\"type\":\"HelpTool\"},{\"attributes\":{},\"id\":\"5399\",\"type\":\"UnionRenderers\"},{\"attributes\":{\"plot\":null,\"text\":\"dist\"},\"id\":\"5181\",\"type\":\"Title\"},{\"attributes\":{},\"id\":\"5396\",\"type\":\"BasicTickFormatter\"},{\"attributes\":{},\"id\":\"5205\",\"type\":\"SaveTool\"},{\"attributes\":{\"callback\":null},\"id\":\"5184\",\"type\":\"DataRange1d\"},{\"attributes\":{\"callback\":null,\"end\":2170},\"id\":\"5186\",\"type\":\"Range1d\"},{\"attributes\":{},\"id\":\"5188\",\"type\":\"LinearScale\"},{\"attributes\":{},\"id\":\"5190\",\"type\":\"LinearScale\"},{\"attributes\":{\"active_drag\":\"auto\",\"active_inspect\":\"auto\",\"active_multi\":null,\"active_scroll\":\"auto\",\"active_tap\":\"auto\",\"tools\":[{\"id\":\"5202\",\"type\":\"PanTool\"},{\"id\":\"5203\",\"type\":\"WheelZoomTool\"},{\"id\":\"5204\",\"type\":\"BoxZoomTool\"},{\"id\":\"5205\",\"type\":\"SaveTool\"},{\"id\":\"5206\",\"type\":\"ResetTool\"},{\"id\":\"5207\",\"type\":\"HelpTool\"}]},\"id\":\"5208\",\"type\":\"Toolbar\"},{\"attributes\":{\"formatter\":{\"id\":\"5396\",\"type\":\"BasicTickFormatter\"},\"plot\":{\"id\":\"5182\",\"subtype\":\"Figure\",\"type\":\"Plot\"},\"ticker\":{\"id\":\"5193\",\"type\":\"BasicTicker\"}},\"id\":\"5192\",\"type\":\"LinearAxis\"},{\"attributes\":{},\"id\":\"5206\",\"type\":\"ResetTool\"},{\"attributes\":{\"overlay\":{\"id\":\"5210\",\"type\":\"BoxAnnotation\"}},\"id\":\"5204\",\"type\":\"BoxZoomTool\"},{\"attributes\":{\"plot\":{\"id\":\"5182\",\"subtype\":\"Figure\",\"type\":\"Plot\"},\"ticker\":{\"id\":\"5193\",\"type\":\"BasicTicker\"}},\"id\":\"5196\",\"type\":\"Grid\"},{\"attributes\":{},\"id\":\"5193\",\"type\":\"BasicTicker\"},{\"attributes\":{\"source\":{\"id\":\"5217\",\"type\":\"ColumnDataSource\"}},\"id\":\"5221\",\"type\":\"CDSView\"},{\"attributes\":{},\"id\":\"5400\",\"type\":\"Selection\"},{\"attributes\":{\"formatter\":{\"id\":\"5398\",\"type\":\"BasicTickFormatter\"},\"plot\":{\"id\":\"5182\",\"subtype\":\"Figure\",\"type\":\"Plot\"},\"ticker\":{\"id\":\"5198\",\"type\":\"BasicTicker\"}},\"id\":\"5197\",\"type\":\"LinearAxis\"},{\"attributes\":{},\"id\":\"5198\",\"type\":\"BasicTicker\"},{\"attributes\":{\"bottom_units\":\"screen\",\"fill_alpha\":{\"value\":0.5},\"fill_color\":{\"value\":\"lightgrey\"},\"left_units\":\"screen\",\"level\":\"overlay\",\"line_alpha\":{\"value\":1.0},\"line_color\":{\"value\":\"black\"},\"line_dash\":[4,4],\"line_width\":{\"value\":2},\"plot\":null,\"render_mode\":\"css\",\"right_units\":\"screen\",\"top_units\":\"screen\"},\"id\":\"5210\",\"type\":\"BoxAnnotation\"},{\"attributes\":{\"dimension\":1,\"plot\":{\"id\":\"5182\",\"subtype\":\"Figure\",\"type\":\"Plot\"},\"ticker\":{\"id\":\"5198\",\"type\":\"BasicTicker\"}},\"id\":\"5201\",\"type\":\"Grid\"},{\"attributes\":{},\"id\":\"5398\",\"type\":\"BasicTickFormatter\"},{\"attributes\":{\"bottom\":{\"value\":0},\"fill_alpha\":{\"value\":0.5},\"fill_color\":{\"value\":\"navy\"},\"left\":{\"field\":\"left\"},\"line_alpha\":{\"value\":0.5},\"line_color\":{\"value\":\"white\"},\"right\":{\"field\":\"right\"},\"top\":{\"field\":\"top\"}},\"id\":\"5218\",\"type\":\"Quad\"}],\"root_ids\":[\"5182\"]},\"title\":\"Bokeh Application\",\"version\":\"1.0.4\"}};\n",
       "  var render_items = [{\"docid\":\"452872cf-638a-49f9-a514-d439a9ef724a\",\"roots\":{\"5182\":\"d0f4bde1-cf82-4968-a469-9f8870756ccc\"}}];\n",
       "  root.Bokeh.embed.embed_items_notebook(docs_json, render_items);\n",
       "\n",
       "  }\n",
       "  if (root.Bokeh !== undefined) {\n",
       "    embed_document(root);\n",
       "  } else {\n",
       "    var attempts = 0;\n",
       "    var timer = setInterval(function(root) {\n",
       "      if (root.Bokeh !== undefined) {\n",
       "        embed_document(root);\n",
       "        clearInterval(timer);\n",
       "      }\n",
       "      attempts++;\n",
       "      if (attempts > 100) {\n",
       "        console.log(\"Bokeh: ERROR: Unable to run BokehJS code because BokehJS library is missing\");\n",
       "        clearInterval(timer);\n",
       "      }\n",
       "    }, 10, root)\n",
       "  }\n",
       "})(window);"
      ],
      "application/vnd.bokehjs_exec.v0+json": ""
     },
     "metadata": {
      "application/vnd.bokehjs_exec.v0+json": {
       "id": "5182"
      }
     },
     "output_type": "display_data"
    }
   ],
   "source": [
    "p_hist = figure(title=\"dist\", plot_width=800, plot_height=400, y_range=(0, max(hist1)))\n",
    "\n",
    "p_hist.quad(top=hist1, bottom=0, left=edges1[:-1], right=edges1[1:],\n",
    "       fill_color=\"navy\", line_color=\"white\", alpha=0.5)\n",
    "\n",
    "\n",
    "show(p_hist)\n",
    "# show(p1)"
   ]
  },
  {
   "cell_type": "code",
   "execution_count": 91,
   "metadata": {},
   "outputs": [
    {
     "data": {
      "text/html": [
       "\n",
       "\n",
       "\n",
       "\n",
       "\n",
       "\n",
       "  <div class=\"bk-root\" id=\"5678c0a0-fdc2-4a89-b9ed-0b92add162ed\" data-root-id=\"5772\"></div>\n"
      ]
     },
     "metadata": {},
     "output_type": "display_data"
    },
    {
     "data": {
      "application/javascript": [
       "(function(root) {\n",
       "  function embed_document(root) {\n",
       "    \n",
       "  var docs_json = {\"14baaa11-0d18-45b1-b691-251923a928a4\":{\"roots\":{\"references\":[{\"attributes\":{\"below\":[{\"id\":\"5782\",\"type\":\"LinearAxis\"}],\"left\":[{\"id\":\"5787\",\"type\":\"LinearAxis\"}],\"plot_height\":400,\"plot_width\":800,\"renderers\":[{\"id\":\"5782\",\"type\":\"LinearAxis\"},{\"id\":\"5786\",\"type\":\"Grid\"},{\"id\":\"5787\",\"type\":\"LinearAxis\"},{\"id\":\"5791\",\"type\":\"Grid\"},{\"id\":\"5800\",\"type\":\"BoxAnnotation\"},{\"id\":\"5810\",\"type\":\"GlyphRenderer\"}],\"title\":{\"id\":\"5771\",\"type\":\"Title\"},\"toolbar\":{\"id\":\"5798\",\"type\":\"Toolbar\"},\"x_range\":{\"id\":\"5774\",\"type\":\"DataRange1d\"},\"x_scale\":{\"id\":\"5778\",\"type\":\"LinearScale\"},\"y_range\":{\"id\":\"5776\",\"type\":\"Range1d\"},\"y_scale\":{\"id\":\"5780\",\"type\":\"LinearScale\"}},\"id\":\"5772\",\"subtype\":\"Figure\",\"type\":\"Plot\"},{\"attributes\":{},\"id\":\"5783\",\"type\":\"BasicTicker\"},{\"attributes\":{\"bottom_units\":\"screen\",\"fill_alpha\":{\"value\":0.5},\"fill_color\":{\"value\":\"lightgrey\"},\"left_units\":\"screen\",\"level\":\"overlay\",\"line_alpha\":{\"value\":1.0},\"line_color\":{\"value\":\"black\"},\"line_dash\":[4,4],\"line_width\":{\"value\":2},\"plot\":null,\"render_mode\":\"css\",\"right_units\":\"screen\",\"top_units\":\"screen\"},\"id\":\"5800\",\"type\":\"BoxAnnotation\"},{\"attributes\":{},\"id\":\"5780\",\"type\":\"LinearScale\"},{\"attributes\":{\"plot\":{\"id\":\"5772\",\"subtype\":\"Figure\",\"type\":\"Plot\"},\"ticker\":{\"id\":\"5783\",\"type\":\"BasicTicker\"}},\"id\":\"5786\",\"type\":\"Grid\"},{\"attributes\":{\"callback\":null,\"end\":2170},\"id\":\"5776\",\"type\":\"Range1d\"},{\"attributes\":{},\"id\":\"5778\",\"type\":\"LinearScale\"},{\"attributes\":{\"source\":{\"id\":\"5807\",\"type\":\"ColumnDataSource\"}},\"id\":\"5811\",\"type\":\"CDSView\"},{\"attributes\":{},\"id\":\"5994\",\"type\":\"BasicTickFormatter\"},{\"attributes\":{},\"id\":\"5793\",\"type\":\"WheelZoomTool\"},{\"attributes\":{},\"id\":\"5792\",\"type\":\"PanTool\"},{\"attributes\":{\"bottom\":{\"value\":0},\"fill_alpha\":{\"value\":0.5},\"fill_color\":{\"value\":\"navy\"},\"left\":{\"field\":\"left\"},\"line_alpha\":{\"value\":0.5},\"line_color\":{\"value\":\"white\"},\"right\":{\"field\":\"right\"},\"top\":{\"field\":\"top\"}},\"id\":\"5808\",\"type\":\"Quad\"},{\"attributes\":{\"bottom\":{\"value\":0},\"fill_alpha\":{\"value\":0.1},\"fill_color\":{\"value\":\"#1f77b4\"},\"left\":{\"field\":\"left\"},\"line_alpha\":{\"value\":0.1},\"line_color\":{\"value\":\"#1f77b4\"},\"right\":{\"field\":\"right\"},\"top\":{\"field\":\"top\"}},\"id\":\"5809\",\"type\":\"Quad\"},{\"attributes\":{\"plot\":null,\"text\":\"dist\"},\"id\":\"5771\",\"type\":\"Title\"},{\"attributes\":{\"overlay\":{\"id\":\"5800\",\"type\":\"BoxAnnotation\"}},\"id\":\"5794\",\"type\":\"BoxZoomTool\"},{\"attributes\":{},\"id\":\"5788\",\"type\":\"BasicTicker\"},{\"attributes\":{},\"id\":\"5795\",\"type\":\"SaveTool\"},{\"attributes\":{},\"id\":\"5996\",\"type\":\"BasicTickFormatter\"},{\"attributes\":{\"callback\":null,\"data\":{\"left\":{\"__ndarray__\":\"ih9j7loiJMAr9pfdk3cdwEKtad5xqhLAYJHtfD91/7+AJJf/kH7nP/BaQj7oeQtAZHZPHhaKGECm374OnKshQBoEVg4tEidAjijtDb54LECBJsKGp+8wQLy4jQbwojNA90pZhjhWNkAx3SQGgQk5QGtv8IXJvDtApQG8BRJwPkDwycNCrZFAQAyTqYJR60FAKlyPwvVEQ0BGJXUCmp5EQA==\",\"dtype\":\"float64\",\"shape\":[20]},\"right\":{\"__ndarray__\":\"K/aX3ZN3HcBCrWnecaoSwGCR7Xw/df+/gCSX/5B+5z/wWkI+6HkLQGR2Tx4WihhApt++DpyrIUAaBFYOLRInQI4o7Q2+eCxAgSbChqfvMEC8uI0G8KIzQPdKWYY4VjZAMd0kBoEJOUBrb/CFybw7QKUBvAUScD5A8MnDQq2RQEAMk6mCUetBQCpcj8L1RENARiV1ApqeREBj7lpCPvhFQA==\",\"dtype\":\"float64\",\"shape\":[20]},\"top\":[10,62,996,2170,293,59,12,42,1,2,0,1,0,0,0,0,0,0,0,1]},\"selected\":{\"id\":\"5998\",\"type\":\"Selection\"},\"selection_policy\":{\"id\":\"5997\",\"type\":\"UnionRenderers\"}},\"id\":\"5807\",\"type\":\"ColumnDataSource\"},{\"attributes\":{},\"id\":\"5997\",\"type\":\"UnionRenderers\"},{\"attributes\":{},\"id\":\"5796\",\"type\":\"ResetTool\"},{\"attributes\":{},\"id\":\"5998\",\"type\":\"Selection\"},{\"attributes\":{\"dimension\":1,\"plot\":{\"id\":\"5772\",\"subtype\":\"Figure\",\"type\":\"Plot\"},\"ticker\":{\"id\":\"5788\",\"type\":\"BasicTicker\"}},\"id\":\"5791\",\"type\":\"Grid\"},{\"attributes\":{},\"id\":\"5797\",\"type\":\"HelpTool\"},{\"attributes\":{\"formatter\":{\"id\":\"5994\",\"type\":\"BasicTickFormatter\"},\"plot\":{\"id\":\"5772\",\"subtype\":\"Figure\",\"type\":\"Plot\"},\"ticker\":{\"id\":\"5783\",\"type\":\"BasicTicker\"}},\"id\":\"5782\",\"type\":\"LinearAxis\"},{\"attributes\":{\"callback\":null},\"id\":\"5774\",\"type\":\"DataRange1d\"},{\"attributes\":{\"active_drag\":\"auto\",\"active_inspect\":\"auto\",\"active_multi\":null,\"active_scroll\":\"auto\",\"active_tap\":\"auto\",\"tools\":[{\"id\":\"5792\",\"type\":\"PanTool\"},{\"id\":\"5793\",\"type\":\"WheelZoomTool\"},{\"id\":\"5794\",\"type\":\"BoxZoomTool\"},{\"id\":\"5795\",\"type\":\"SaveTool\"},{\"id\":\"5796\",\"type\":\"ResetTool\"},{\"id\":\"5797\",\"type\":\"HelpTool\"}]},\"id\":\"5798\",\"type\":\"Toolbar\"},{\"attributes\":{\"formatter\":{\"id\":\"5996\",\"type\":\"BasicTickFormatter\"},\"plot\":{\"id\":\"5772\",\"subtype\":\"Figure\",\"type\":\"Plot\"},\"ticker\":{\"id\":\"5788\",\"type\":\"BasicTicker\"}},\"id\":\"5787\",\"type\":\"LinearAxis\"},{\"attributes\":{\"data_source\":{\"id\":\"5807\",\"type\":\"ColumnDataSource\"},\"glyph\":{\"id\":\"5808\",\"type\":\"Quad\"},\"hover_glyph\":null,\"muted_glyph\":null,\"nonselection_glyph\":{\"id\":\"5809\",\"type\":\"Quad\"},\"selection_glyph\":null,\"view\":{\"id\":\"5811\",\"type\":\"CDSView\"}},\"id\":\"5810\",\"type\":\"GlyphRenderer\"}],\"root_ids\":[\"5772\"]},\"title\":\"Bokeh Application\",\"version\":\"1.0.4\"}};\n",
       "  var render_items = [{\"docid\":\"14baaa11-0d18-45b1-b691-251923a928a4\",\"roots\":{\"5772\":\"5678c0a0-fdc2-4a89-b9ed-0b92add162ed\"}}];\n",
       "  root.Bokeh.embed.embed_items_notebook(docs_json, render_items);\n",
       "\n",
       "  }\n",
       "  if (root.Bokeh !== undefined) {\n",
       "    embed_document(root);\n",
       "  } else {\n",
       "    var attempts = 0;\n",
       "    var timer = setInterval(function(root) {\n",
       "      if (root.Bokeh !== undefined) {\n",
       "        embed_document(root);\n",
       "        clearInterval(timer);\n",
       "      }\n",
       "      attempts++;\n",
       "      if (attempts > 100) {\n",
       "        console.log(\"Bokeh: ERROR: Unable to run BokehJS code because BokehJS library is missing\");\n",
       "        clearInterval(timer);\n",
       "      }\n",
       "    }, 10, root)\n",
       "  }\n",
       "})(window);"
      ],
      "application/vnd.bokehjs_exec.v0+json": ""
     },
     "metadata": {
      "application/vnd.bokehjs_exec.v0+json": {
       "id": "5772"
      }
     },
     "output_type": "display_data"
    }
   ],
   "source": [
    "from bokeh.io import save, output_file\n",
    "from bokeh.layouts import Row\n",
    "output_file(\"demo.html\")\n",
    "p_hist = figure(title=\"dist\", plot_width=800, plot_height=400, y_range=(0, max(hist1)))\n",
    "\n",
    "p_hist.quad(top=hist1, bottom=0, left=edges1[:-1], right=edges1[1:],\n",
    "       fill_color=\"navy\", line_color=\"white\", alpha=0.5)\n",
    "\n",
    "show(p_hist)"
   ]
  },
  {
   "cell_type": "code",
   "execution_count": 92,
   "metadata": {},
   "outputs": [
    {
     "data": {
      "text/html": [
       "\n",
       "\n",
       "\n",
       "\n",
       "\n",
       "\n",
       "  <div class=\"bk-root\" id=\"f5228b6c-5e5a-4943-8bf4-8a48e69c3322\" data-root-id=\"6164\"></div>\n"
      ]
     },
     "metadata": {},
     "output_type": "display_data"
    },
    {
     "data": {
      "application/javascript": [
       "(function(root) {\n",
       "  function embed_document(root) {\n",
       "    \n",
       "  var docs_json = {\"ee6db313-7c35-4698-b5e5-f57efb530e4f\":{\"roots\":{\"references\":[{\"attributes\":{\"children\":[{\"id\":\"6163\",\"type\":\"ToolbarBox\"},{\"id\":\"6161\",\"type\":\"Column\"}]},\"id\":\"6164\",\"type\":\"Column\"},{\"attributes\":{\"children\":[{\"id\":\"4592\",\"subtype\":\"Figure\",\"type\":\"Plot\"}]},\"id\":\"6142\",\"type\":\"Row\"},{\"attributes\":{\"line_alpha\":0.1,\"line_color\":\"#1f77b4\",\"x\":{\"field\":\"x\"},\"y\":{\"field\":\"y\"}},\"id\":\"4629\",\"type\":\"Line\"},{\"attributes\":{},\"id\":\"5783\",\"type\":\"BasicTicker\"},{\"attributes\":{},\"id\":\"5780\",\"type\":\"LinearScale\"},{\"attributes\":{\"plot\":{\"id\":\"5772\",\"subtype\":\"Figure\",\"type\":\"Plot\"},\"ticker\":{\"id\":\"5783\",\"type\":\"BasicTicker\"}},\"id\":\"5786\",\"type\":\"Grid\"},{\"attributes\":{},\"id\":\"5778\",\"type\":\"LinearScale\"},{\"attributes\":{\"children\":[{\"id\":\"6142\",\"type\":\"Row\"},{\"id\":\"6160\",\"type\":\"Row\"}]},\"id\":\"6161\",\"type\":\"Column\"},{\"attributes\":{\"bottom_units\":\"screen\",\"fill_alpha\":{\"value\":0.5},\"fill_color\":{\"value\":\"lightgrey\"},\"left_units\":\"screen\",\"level\":\"overlay\",\"line_alpha\":{\"value\":1.0},\"line_color\":{\"value\":\"black\"},\"line_dash\":[4,4],\"line_width\":{\"value\":2},\"plot\":null,\"render_mode\":\"css\",\"right_units\":\"screen\",\"top_units\":\"screen\"},\"id\":\"4620\",\"type\":\"BoxAnnotation\"},{\"attributes\":{},\"id\":\"4612\",\"type\":\"PanTool\"},{\"attributes\":{},\"id\":\"4780\",\"type\":\"DatetimeTickFormatter\"},{\"attributes\":{},\"id\":\"4948\",\"type\":\"CategoricalTickFormatter\"},{\"attributes\":{\"active_drag\":\"auto\",\"active_inspect\":\"auto\",\"active_multi\":null,\"active_scroll\":\"auto\",\"active_tap\":\"auto\",\"tools\":[{\"id\":\"4612\",\"type\":\"PanTool\"},{\"id\":\"4613\",\"type\":\"WheelZoomTool\"},{\"id\":\"4614\",\"type\":\"BoxZoomTool\"},{\"id\":\"4615\",\"type\":\"SaveTool\"},{\"id\":\"4616\",\"type\":\"ResetTool\"},{\"id\":\"4617\",\"type\":\"HelpTool\"}]},\"id\":\"4618\",\"type\":\"Toolbar\"},{\"attributes\":{\"data_source\":{\"id\":\"4627\",\"type\":\"ColumnDataSource\"},\"glyph\":{\"id\":\"4628\",\"type\":\"Line\"},\"hover_glyph\":null,\"muted_glyph\":null,\"nonselection_glyph\":{\"id\":\"4629\",\"type\":\"Line\"},\"selection_glyph\":null,\"view\":{\"id\":\"4631\",\"type\":\"CDSView\"}},\"id\":\"4630\",\"type\":\"GlyphRenderer\"},{\"attributes\":{\"tools\":[{\"id\":\"4612\",\"type\":\"PanTool\"},{\"id\":\"4613\",\"type\":\"WheelZoomTool\"},{\"id\":\"4614\",\"type\":\"BoxZoomTool\"},{\"id\":\"4615\",\"type\":\"SaveTool\"},{\"id\":\"4616\",\"type\":\"ResetTool\"},{\"id\":\"4617\",\"type\":\"HelpTool\"},{\"id\":\"5792\",\"type\":\"PanTool\"},{\"id\":\"5793\",\"type\":\"WheelZoomTool\"},{\"id\":\"5794\",\"type\":\"BoxZoomTool\"},{\"id\":\"5795\",\"type\":\"SaveTool\"},{\"id\":\"5796\",\"type\":\"ResetTool\"},{\"id\":\"5797\",\"type\":\"HelpTool\"}]},\"id\":\"6162\",\"type\":\"ProxyToolbar\"},{\"attributes\":{},\"id\":\"4617\",\"type\":\"HelpTool\"},{\"attributes\":{\"toolbar\":{\"id\":\"6162\",\"type\":\"ProxyToolbar\"},\"toolbar_location\":\"above\"},\"id\":\"6163\",\"type\":\"ToolbarBox\"},{\"attributes\":{},\"id\":\"4616\",\"type\":\"ResetTool\"},{\"attributes\":{\"source\":{\"id\":\"4918\",\"type\":\"ColumnDataSource\"}},\"id\":\"4958\",\"type\":\"CDSView\"},{\"attributes\":{},\"id\":\"4615\",\"type\":\"SaveTool\"},{\"attributes\":{\"line_alpha\":0.5,\"line_color\":\"navy\",\"x\":{\"field\":\"x\"},\"y\":{\"field\":\"y\"}},\"id\":\"4628\",\"type\":\"Line\"},{\"attributes\":{\"below\":[{\"id\":\"4930\",\"type\":\"CategoricalAxis\"}],\"left\":[{\"id\":\"4934\",\"type\":\"LinearAxis\"}],\"plot_height\":350,\"plot_width\":800,\"renderers\":[{\"id\":\"4930\",\"type\":\"CategoricalAxis\"},{\"id\":\"4933\",\"type\":\"Grid\"},{\"id\":\"4934\",\"type\":\"LinearAxis\"},{\"id\":\"4938\",\"type\":\"Grid\"},{\"id\":\"4951\",\"type\":\"Legend\"},{\"id\":\"4944\",\"type\":\"GlyphRenderer\"},{\"id\":\"4957\",\"type\":\"GlyphRenderer\"}],\"title\":{\"id\":\"4919\",\"type\":\"Title\"},\"toolbar\":{\"id\":\"4939\",\"type\":\"Toolbar\"},\"toolbar_location\":null,\"x_range\":{\"id\":\"4922\",\"type\":\"FactorRange\"},\"x_scale\":{\"id\":\"4926\",\"type\":\"CategoricalScale\"},\"y_range\":{\"id\":\"4924\",\"type\":\"Range1d\"},\"y_scale\":{\"id\":\"4928\",\"type\":\"LinearScale\"}},\"id\":\"4920\",\"subtype\":\"Figure\",\"type\":\"Plot\"},{\"attributes\":{},\"id\":\"4613\",\"type\":\"WheelZoomTool\"},{\"attributes\":{\"callback\":null,\"data\":{\"limit_down\":[21,0,1,10,4,3,4,3,4,8],\"limit_up\":[49,53,36,34,43,38,29,36,30,46],\"x_range\":[\"2019-07-23\",\"2019-07-24\",\"2019-07-25\",\"2019-07-26\",\"2019-07-29\",\"2019-07-30\",\"2019-07-31\",\"2019-08-01\",\"2019-08-02\",\"2019-08-05\"]},\"selected\":{\"id\":\"4965\",\"type\":\"Selection\"},\"selection_policy\":{\"id\":\"4964\",\"type\":\"UnionRenderers\"}},\"id\":\"4918\",\"type\":\"ColumnDataSource\"},{\"attributes\":{\"overlay\":{\"id\":\"4620\",\"type\":\"BoxAnnotation\"}},\"id\":\"4614\",\"type\":\"BoxZoomTool\"},{\"attributes\":{\"range\":{\"id\":\"4922\",\"type\":\"FactorRange\"},\"value\":-0.25},\"id\":\"4940\",\"type\":\"Dodge\"},{\"attributes\":{\"range\":{\"id\":\"4922\",\"type\":\"FactorRange\"}},\"id\":\"4953\",\"type\":\"Dodge\"},{\"attributes\":{\"dimension\":1,\"plot\":{\"id\":\"4592\",\"subtype\":\"Figure\",\"type\":\"Plot\"},\"ticker\":{\"id\":\"4608\",\"type\":\"BasicTicker\"}},\"id\":\"4611\",\"type\":\"Grid\"},{\"attributes\":{},\"id\":\"4608\",\"type\":\"BasicTicker\"},{\"attributes\":{\"plot\":null,\"text\":\"Date\"},\"id\":\"4919\",\"type\":\"Title\"},{\"attributes\":{\"children\":[{\"id\":\"5772\",\"subtype\":\"Figure\",\"type\":\"Plot\"},{\"id\":\"4920\",\"subtype\":\"Figure\",\"type\":\"Plot\"}]},\"id\":\"6160\",\"type\":\"Row\"},{\"attributes\":{\"callback\":null,\"factors\":[\"2019-07-23\",\"2019-07-24\",\"2019-07-25\",\"2019-07-26\",\"2019-07-29\",\"2019-07-30\",\"2019-07-31\",\"2019-08-01\",\"2019-08-02\",\"2019-08-05\"],\"range_padding\":0.1},\"id\":\"4922\",\"type\":\"FactorRange\"},{\"attributes\":{},\"id\":\"5788\",\"type\":\"BasicTicker\"},{\"attributes\":{\"callback\":null,\"end\":65},\"id\":\"4924\",\"type\":\"Range1d\"},{\"attributes\":{},\"id\":\"4926\",\"type\":\"CategoricalScale\"},{\"attributes\":{},\"id\":\"4928\",\"type\":\"LinearScale\"},{\"attributes\":{\"callback\":null,\"data\":{\"left\":{\"__ndarray__\":\"ih9j7loiJMAr9pfdk3cdwEKtad5xqhLAYJHtfD91/7+AJJf/kH7nP/BaQj7oeQtAZHZPHhaKGECm374OnKshQBoEVg4tEidAjijtDb54LECBJsKGp+8wQLy4jQbwojNA90pZhjhWNkAx3SQGgQk5QGtv8IXJvDtApQG8BRJwPkDwycNCrZFAQAyTqYJR60FAKlyPwvVEQ0BGJXUCmp5EQA==\",\"dtype\":\"float64\",\"shape\":[20]},\"right\":{\"__ndarray__\":\"K/aX3ZN3HcBCrWnecaoSwGCR7Xw/df+/gCSX/5B+5z/wWkI+6HkLQGR2Tx4WihhApt++DpyrIUAaBFYOLRInQI4o7Q2+eCxAgSbChqfvMEC8uI0G8KIzQPdKWYY4VjZAMd0kBoEJOUBrb/CFybw7QKUBvAUScD5A8MnDQq2RQEAMk6mCUetBQCpcj8L1RENARiV1ApqeREBj7lpCPvhFQA==\",\"dtype\":\"float64\",\"shape\":[20]},\"top\":[10,62,996,2170,293,59,12,42,1,2,0,1,0,0,0,0,0,0,0,1]},\"selected\":{\"id\":\"5998\",\"type\":\"Selection\"},\"selection_policy\":{\"id\":\"5997\",\"type\":\"UnionRenderers\"}},\"id\":\"5807\",\"type\":\"ColumnDataSource\"},{\"attributes\":{\"formatter\":{\"id\":\"4948\",\"type\":\"CategoricalTickFormatter\"},\"plot\":{\"id\":\"4920\",\"subtype\":\"Figure\",\"type\":\"Plot\"},\"ticker\":{\"id\":\"4931\",\"type\":\"CategoricalTicker\"}},\"id\":\"4930\",\"type\":\"CategoricalAxis\"},{\"attributes\":{},\"id\":\"4931\",\"type\":\"CategoricalTicker\"},{\"attributes\":{\"dimension\":1,\"plot\":{\"id\":\"5772\",\"subtype\":\"Figure\",\"type\":\"Plot\"},\"ticker\":{\"id\":\"5788\",\"type\":\"BasicTicker\"}},\"id\":\"5791\",\"type\":\"Grid\"},{\"attributes\":{\"grid_line_color\":{\"value\":null},\"plot\":{\"id\":\"4920\",\"subtype\":\"Figure\",\"type\":\"Plot\"},\"ticker\":{\"id\":\"4931\",\"type\":\"CategoricalTicker\"}},\"id\":\"4933\",\"type\":\"Grid\"},{\"attributes\":{\"formatter\":{\"id\":\"4950\",\"type\":\"BasicTickFormatter\"},\"plot\":{\"id\":\"4920\",\"subtype\":\"Figure\",\"type\":\"Plot\"},\"ticker\":{\"id\":\"4935\",\"type\":\"BasicTicker\"}},\"id\":\"4934\",\"type\":\"LinearAxis\"},{\"attributes\":{},\"id\":\"4935\",\"type\":\"BasicTicker\"},{\"attributes\":{\"dimension\":1,\"plot\":{\"id\":\"4920\",\"subtype\":\"Figure\",\"type\":\"Plot\"},\"ticker\":{\"id\":\"4935\",\"type\":\"BasicTicker\"}},\"id\":\"4938\",\"type\":\"Grid\"},{\"attributes\":{\"formatter\":{\"id\":\"5996\",\"type\":\"BasicTickFormatter\"},\"plot\":{\"id\":\"5772\",\"subtype\":\"Figure\",\"type\":\"Plot\"},\"ticker\":{\"id\":\"5788\",\"type\":\"BasicTicker\"}},\"id\":\"5787\",\"type\":\"LinearAxis\"},{\"attributes\":{\"active_drag\":\"auto\",\"active_inspect\":\"auto\",\"active_multi\":null,\"active_scroll\":\"auto\",\"active_tap\":\"auto\"},\"id\":\"4939\",\"type\":\"Toolbar\"},{\"attributes\":{\"mantissas\":[1,2,5],\"max_interval\":500.0,\"num_minor_ticks\":0},\"id\":\"4783\",\"type\":\"AdaptiveTicker\"},{\"attributes\":{},\"id\":\"4782\",\"type\":\"BasicTickFormatter\"},{\"attributes\":{},\"id\":\"4965\",\"type\":\"Selection\"},{\"attributes\":{\"fill_color\":{\"value\":\"#2ca25f\"},\"line_color\":{\"value\":\"#2ca25f\"},\"top\":{\"field\":\"limit_down\"},\"width\":{\"value\":0.2},\"x\":{\"field\":\"x_range\",\"transform\":{\"id\":\"4940\",\"type\":\"Dodge\"}}},\"id\":\"4942\",\"type\":\"VBar\"},{\"attributes\":{},\"id\":\"5994\",\"type\":\"BasicTickFormatter\"},{\"attributes\":{\"base\":60,\"mantissas\":[1,2,5,10,15,20,30],\"max_interval\":1800000.0,\"min_interval\":1000.0,\"num_minor_ticks\":0},\"id\":\"4784\",\"type\":\"AdaptiveTicker\"},{\"attributes\":{\"fill_alpha\":{\"value\":0.1},\"fill_color\":{\"value\":\"#1f77b4\"},\"line_alpha\":{\"value\":0.1},\"line_color\":{\"value\":\"#1f77b4\"},\"top\":{\"field\":\"limit_down\"},\"width\":{\"value\":0.2},\"x\":{\"field\":\"x_range\",\"transform\":{\"id\":\"4940\",\"type\":\"Dodge\"}}},\"id\":\"4943\",\"type\":\"VBar\"},{\"attributes\":{\"base\":24,\"mantissas\":[1,2,4,6,8,12],\"max_interval\":43200000.0,\"min_interval\":3600000.0,\"num_minor_ticks\":0},\"id\":\"4785\",\"type\":\"AdaptiveTicker\"},{\"attributes\":{\"data_source\":{\"id\":\"4918\",\"type\":\"ColumnDataSource\"},\"glyph\":{\"id\":\"4942\",\"type\":\"VBar\"},\"hover_glyph\":null,\"muted_glyph\":null,\"nonselection_glyph\":{\"id\":\"4943\",\"type\":\"VBar\"},\"selection_glyph\":null,\"view\":{\"id\":\"4945\",\"type\":\"CDSView\"}},\"id\":\"4944\",\"type\":\"GlyphRenderer\"},{\"attributes\":{\"days\":[1,2,3,4,5,6,7,8,9,10,11,12,13,14,15,16,17,18,19,20,21,22,23,24,25,26,27,28,29,30,31]},\"id\":\"4786\",\"type\":\"DaysTicker\"},{\"attributes\":{\"source\":{\"id\":\"4918\",\"type\":\"ColumnDataSource\"}},\"id\":\"4945\",\"type\":\"CDSView\"},{\"attributes\":{},\"id\":\"5792\",\"type\":\"PanTool\"},{\"attributes\":{\"days\":[1,4,7,10,13,16,19,22,25,28]},\"id\":\"4787\",\"type\":\"DaysTicker\"},{\"attributes\":{\"bottom\":{\"value\":0},\"fill_alpha\":{\"value\":0.1},\"fill_color\":{\"value\":\"#1f77b4\"},\"left\":{\"field\":\"left\"},\"line_alpha\":{\"value\":0.1},\"line_color\":{\"value\":\"#1f77b4\"},\"right\":{\"field\":\"right\"},\"top\":{\"field\":\"top\"}},\"id\":\"5809\",\"type\":\"Quad\"},{\"attributes\":{},\"id\":\"4950\",\"type\":\"BasicTickFormatter\"},{\"attributes\":{\"fill_color\":{\"value\":\"#e84d60\"},\"line_color\":{\"value\":\"#e84d60\"},\"top\":{\"field\":\"limit_up\"},\"width\":{\"value\":0.2},\"x\":{\"field\":\"x_range\",\"transform\":{\"id\":\"4953\",\"type\":\"Dodge\"}}},\"id\":\"4955\",\"type\":\"VBar\"},{\"attributes\":{\"days\":[1,8,15,22]},\"id\":\"4788\",\"type\":\"DaysTicker\"},{\"attributes\":{\"overlay\":{\"id\":\"5800\",\"type\":\"BoxAnnotation\"}},\"id\":\"5794\",\"type\":\"BoxZoomTool\"},{\"attributes\":{\"items\":[{\"id\":\"4952\",\"type\":\"LegendItem\"},{\"id\":\"4966\",\"type\":\"LegendItem\"}],\"orientation\":\"horizontal\",\"plot\":{\"id\":\"4920\",\"subtype\":\"Figure\",\"type\":\"Plot\"}},\"id\":\"4951\",\"type\":\"Legend\"},{\"attributes\":{\"days\":[1,15]},\"id\":\"4789\",\"type\":\"DaysTicker\"},{\"attributes\":{\"months\":[0,1,2,3,4,5,6,7,8,9,10,11]},\"id\":\"4790\",\"type\":\"MonthsTicker\"},{\"attributes\":{\"label\":{\"value\":\"\\u8dcc\\u505c\"},\"renderers\":[{\"id\":\"4944\",\"type\":\"GlyphRenderer\"}]},\"id\":\"4952\",\"type\":\"LegendItem\"},{\"attributes\":{},\"id\":\"5795\",\"type\":\"SaveTool\"},{\"attributes\":{\"months\":[0,2,4,6,8,10]},\"id\":\"4791\",\"type\":\"MonthsTicker\"},{\"attributes\":{\"months\":[0,4,8]},\"id\":\"4792\",\"type\":\"MonthsTicker\"},{\"attributes\":{},\"id\":\"5796\",\"type\":\"ResetTool\"},{\"attributes\":{\"months\":[0,6]},\"id\":\"4793\",\"type\":\"MonthsTicker\"},{\"attributes\":{\"label\":{\"value\":\"\\u6da8\\u505c\"},\"renderers\":[{\"id\":\"4957\",\"type\":\"GlyphRenderer\"}]},\"id\":\"4966\",\"type\":\"LegendItem\"},{\"attributes\":{},\"id\":\"4794\",\"type\":\"YearsTicker\"},{\"attributes\":{},\"id\":\"5797\",\"type\":\"HelpTool\"},{\"attributes\":{},\"id\":\"4795\",\"type\":\"UnionRenderers\"},{\"attributes\":{\"plot\":{\"id\":\"4592\",\"subtype\":\"Figure\",\"type\":\"Plot\"},\"ticker\":{\"id\":\"4603\",\"type\":\"DatetimeTicker\"}},\"id\":\"4606\",\"type\":\"Grid\"},{\"attributes\":{},\"id\":\"4796\",\"type\":\"Selection\"},{\"attributes\":{\"callback\":null},\"id\":\"4596\",\"type\":\"DataRange1d\"},{\"attributes\":{\"active_drag\":\"auto\",\"active_inspect\":\"auto\",\"active_multi\":null,\"active_scroll\":\"auto\",\"active_tap\":\"auto\",\"tools\":[{\"id\":\"5792\",\"type\":\"PanTool\"},{\"id\":\"5793\",\"type\":\"WheelZoomTool\"},{\"id\":\"5794\",\"type\":\"BoxZoomTool\"},{\"id\":\"5795\",\"type\":\"SaveTool\"},{\"id\":\"5796\",\"type\":\"ResetTool\"},{\"id\":\"5797\",\"type\":\"HelpTool\"}]},\"id\":\"5798\",\"type\":\"Toolbar\"},{\"attributes\":{\"callback\":null},\"id\":\"4594\",\"type\":\"DataRange1d\"},{\"attributes\":{\"data_source\":{\"id\":\"5807\",\"type\":\"ColumnDataSource\"},\"glyph\":{\"id\":\"5808\",\"type\":\"Quad\"},\"hover_glyph\":null,\"muted_glyph\":null,\"nonselection_glyph\":{\"id\":\"5809\",\"type\":\"Quad\"},\"selection_glyph\":null,\"view\":{\"id\":\"5811\",\"type\":\"CDSView\"}},\"id\":\"5810\",\"type\":\"GlyphRenderer\"},{\"attributes\":{},\"id\":\"4598\",\"type\":\"LinearScale\"},{\"attributes\":{\"below\":[{\"id\":\"5782\",\"type\":\"LinearAxis\"}],\"left\":[{\"id\":\"5787\",\"type\":\"LinearAxis\"}],\"plot_height\":400,\"plot_width\":800,\"renderers\":[{\"id\":\"5782\",\"type\":\"LinearAxis\"},{\"id\":\"5786\",\"type\":\"Grid\"},{\"id\":\"5787\",\"type\":\"LinearAxis\"},{\"id\":\"5791\",\"type\":\"Grid\"},{\"id\":\"5800\",\"type\":\"BoxAnnotation\"},{\"id\":\"5810\",\"type\":\"GlyphRenderer\"}],\"title\":{\"id\":\"5771\",\"type\":\"Title\"},\"toolbar\":{\"id\":\"5798\",\"type\":\"Toolbar\"},\"toolbar_location\":null,\"x_range\":{\"id\":\"5774\",\"type\":\"DataRange1d\"},\"x_scale\":{\"id\":\"5778\",\"type\":\"LinearScale\"},\"y_range\":{\"id\":\"5776\",\"type\":\"Range1d\"},\"y_scale\":{\"id\":\"5780\",\"type\":\"LinearScale\"}},\"id\":\"5772\",\"subtype\":\"Figure\",\"type\":\"Plot\"},{\"attributes\":{},\"id\":\"4964\",\"type\":\"UnionRenderers\"},{\"attributes\":{\"bottom_units\":\"screen\",\"fill_alpha\":{\"value\":0.5},\"fill_color\":{\"value\":\"lightgrey\"},\"left_units\":\"screen\",\"level\":\"overlay\",\"line_alpha\":{\"value\":1.0},\"line_color\":{\"value\":\"black\"},\"line_dash\":[4,4],\"line_width\":{\"value\":2},\"plot\":null,\"render_mode\":\"css\",\"right_units\":\"screen\",\"top_units\":\"screen\"},\"id\":\"5800\",\"type\":\"BoxAnnotation\"},{\"attributes\":{},\"id\":\"4600\",\"type\":\"LinearScale\"},{\"attributes\":{\"formatter\":{\"id\":\"4780\",\"type\":\"DatetimeTickFormatter\"},\"plot\":{\"id\":\"4592\",\"subtype\":\"Figure\",\"type\":\"Plot\"},\"ticker\":{\"id\":\"4603\",\"type\":\"DatetimeTicker\"}},\"id\":\"4602\",\"type\":\"DatetimeAxis\"},{\"attributes\":{\"callback\":null,\"end\":2170},\"id\":\"5776\",\"type\":\"Range1d\"},{\"attributes\":{\"source\":{\"id\":\"5807\",\"type\":\"ColumnDataSource\"}},\"id\":\"5811\",\"type\":\"CDSView\"},{\"attributes\":{},\"id\":\"5793\",\"type\":\"WheelZoomTool\"},{\"attributes\":{\"bottom\":{\"value\":0},\"fill_alpha\":{\"value\":0.5},\"fill_color\":{\"value\":\"navy\"},\"left\":{\"field\":\"left\"},\"line_alpha\":{\"value\":0.5},\"line_color\":{\"value\":\"white\"},\"right\":{\"field\":\"right\"},\"top\":{\"field\":\"top\"}},\"id\":\"5808\",\"type\":\"Quad\"},{\"attributes\":{\"plot\":null,\"text\":\"trend\"},\"id\":\"4591\",\"type\":\"Title\"},{\"attributes\":{\"plot\":null,\"text\":\"dist\"},\"id\":\"5771\",\"type\":\"Title\"},{\"attributes\":{\"source\":{\"id\":\"4627\",\"type\":\"ColumnDataSource\"}},\"id\":\"4631\",\"type\":\"CDSView\"},{\"attributes\":{},\"id\":\"5996\",\"type\":\"BasicTickFormatter\"},{\"attributes\":{\"num_minor_ticks\":5,\"tickers\":[{\"id\":\"4783\",\"type\":\"AdaptiveTicker\"},{\"id\":\"4784\",\"type\":\"AdaptiveTicker\"},{\"id\":\"4785\",\"type\":\"AdaptiveTicker\"},{\"id\":\"4786\",\"type\":\"DaysTicker\"},{\"id\":\"4787\",\"type\":\"DaysTicker\"},{\"id\":\"4788\",\"type\":\"DaysTicker\"},{\"id\":\"4789\",\"type\":\"DaysTicker\"},{\"id\":\"4790\",\"type\":\"MonthsTicker\"},{\"id\":\"4791\",\"type\":\"MonthsTicker\"},{\"id\":\"4792\",\"type\":\"MonthsTicker\"},{\"id\":\"4793\",\"type\":\"MonthsTicker\"},{\"id\":\"4794\",\"type\":\"YearsTicker\"}]},\"id\":\"4603\",\"type\":\"DatetimeTicker\"},{\"attributes\":{},\"id\":\"5997\",\"type\":\"UnionRenderers\"},{\"attributes\":{\"callback\":null,\"data\":{\"x\":[0,1,2,3,4,5,6,7,8,9,10,11,12,13,14,15,16,17,18,19,20,21,22,23,24,25,26,27,28,29,30,31,32,33,34,35,36,37,38,39,40,41,42,43,44,45,46,47,48,49,50,51,52,53,54,55,56,57,58,59,60,61,62,63,64,65,66,67,68,69,70,71,72,73,74,75,76,77,78,79,80,81,82,83,84,85,86,87,88,89,90,91,92,93,94,95,96,97,98,99,100,101,102,103,104,105,106,107,108,109,110,111,112,113,114,115,116,117,118,119,120,121,122,123,124,125,126,127,128,129,130,131,132,133,134,135,136,137,138,139,140,141,142,143,144,145,146,147,148,149,150,151,152,153,154,155,156,157,158,159,160,161,162,163,164,165,166,167,168,169,170,171,172,173,174,175,176,177,178,179,180,181,182,183,184,185,186,187,188,189,190,191,192,193,194,195,196,197,198,199,200,201,202,203,204,205,206,207,208,209,210,211,212,213,214,215,216,217,218,219,220,221,222,223,224,225,226,227,228,229,230,231,232,233,234,235,236,237,238,239,240,241,242,243,244,245,246,247,248,249,250,251,252,253,254,255,256,257,258,259,260,261,262,263,264,265,266,267,268,269,270,271,272,273,274,275,276,277,278,279,280,281,282,283,284,285,286,287,288,289,290,291,292,293,294,295,296,297,298,299,300,301,302,303,304,305,306,307,308,309,310,311,312,313,314,315,316,317,318,319,320,321,322,323,324,325,326,327,328,329,330,331,332,333,334,335,336,337,338,339,340,341,342,343,344,345,346,347,348,349,350,351,352,353,354,355,356,357,358,359,360,361,362,363,364,365,366,367,368,369,370,371,372,373,374,375,376,377,378,379,380,381,382,383,384,385,386,387,388,389,390,391,392,393,394,395,396,397,398,399,400,401,402,403,404,405,406,407,408,409,410,411,412,413,414,415,416,417,418,419,420,421,422,423,424,425,426,427,428,429,430,431,432,433,434,435,436,437,438,439,440,441,442,443,444,445,446,447,448,449,450,451,452,453,454,455,456,457,458,459,460,461,462,463,464,465,466,467,468,469,470,471,472,473,474,475,476,477,478,479,480,481,482,483,484,485,486,487,488,489,490,491,492,493,494,495,496,497,498,499,500,501,502,503,504,505,506,507,508,509,510,511,512,513,514,515,516,517,518,519,520,521,522,523,524,525,526,527,528,529,530,531,532,533,534,535,536,537,538,539,540,541,542,543,544,545,546,547,548,549,550,551,552,553,554,555,556,557,558,559,560,561,562,563,564,565,566,567,568,569,570,571,572,573,574,575,576,577,578,579,580,581,582,583,584,585,586,587,588,589,590,591,592,593,594,595,596,597,598,599,600,601,602,603,604,605,606,607,608,609,610,611,612,613,614,615,616,617,618,619,620,621,622,623,624,625,626,627,628,629,630,631,632,633,634,635,636,637,638,639,640,641,642,643,644,645,646,647,648,649,650,651,652,653,654,655,656,657,658,659,660,661,662,663,664,665,666,667,668,669,670,671,672,673,674,675,676,677,678,679,680,681,682,683,684,685,686,687,688,689,690,691,692,693,694,695,696,697,698,699,700,701,702,703,704,705,706,707,708,709,710,711,712,713,714,715,716,717,718,719,720,721,722,723,724,725,726,727,728,729,730,731,732,733,734,735,736,737,738,739,740,741,742,743,744,745,746,747,748,749,750,751,752,753,754,755,756,757,758,759,760,761,762,763,764,765,766,767,768,769,770,771,772,773,774,775,776,777,778,779,780,781,782,783,784,785,786,787,788,789,790,791,792,793,794,795,796,797,798,799,800,801,802,803,804,805,806,807,808,809,810,811,812,813,814,815,816,817,818,819,820,821,822,823,824,825,826,827,828,829,830,831,832,833,834,835,836,837,838,839,840,841,842,843,844,845,846,847,848,849,850,851,852,853,854,855,856,857,858,859,860,861,862,863,864,865,866,867,868,869,870,871,872,873,874,875,876,877,878,879,880,881,882,883,884,885,886,887,888,889,890,891,892,893,894,895,896,897,898,899,900,901,902,903,904,905,906,907,908,909,910,911,912,913,914,915,916,917,918,919,920,921,922,923,924,925,926,927,928,929,930,931,932,933,934,935,936,937,938,939,940,941,942,943,944,945,946,947,948,949,950,951,952,953,954,955,956,957,958,959,960,961,962,963,964,965,966,967,968,969,970,971,972,973,974,975,976,977,978,979,980,981,982,983,984,985,986,987,988,989,990,991,992,993,994,995,996,997,998,999,1000,1001,1002,1003,1004,1005,1006,1007,1008,1009,1010,1011,1012,1013,1014,1015,1016,1017,1018,1019,1020,1021,1022,1023,1024,1025,1026,1027,1028,1029,1030,1031,1032,1033,1034,1035,1036,1037,1038,1039,1040,1041,1042,1043,1044,1045,1046,1047,1048,1049,1050,1051,1052,1053,1054,1055,1056,1057,1058,1059,1060,1061,1062,1063,1064,1065,1066,1067,1068,1069,1070,1071,1072,1073,1074,1075,1076,1077,1078,1079,1080,1081,1082,1083,1084,1085,1086,1087,1088,1089,1090,1091,1092,1093,1094,1095,1096,1097,1098,1099,1100,1101,1102,1103,1104,1105,1106,1107,1108,1109,1110,1111,1112,1113,1114,1115,1116,1117,1118,1119,1120,1121,1122,1123,1124,1125,1126,1127,1128,1129,1130,1131,1132,1133,1134,1135,1136,1137,1138,1139,1140,1141,1142,1143,1144,1145,1146,1147,1148,1149,1150,1151,1152,1153,1154,1155,1156,1157,1158,1159,1160,1161,1162,1163,1164,1165,1166,1167,1168,1169,1170,1171,1172,1173,1174,1175,1176,1177,1178,1179,1180,1181,1182,1183,1184,1185,1186,1187,1188,1189,1190,1191,1192,1193,1194,1195,1196,1197,1198,1199,1200,1201,1202,1203,1204,1205,1206,1207,1208,1209,1210,1211,1212,1213,1214,1215,1216,1217,1218,1219,1220,1221,1222,1223,1224,1225,1226,1227,1228,1229,1230,1231,1232,1233,1234,1235,1236,1237,1238,1239,1240,1241,1242,1243,1244,1245,1246,1247,1248,1249,1250,1251,1252,1253,1254,1255,1256,1257,1258,1259,1260,1261,1262,1263,1264,1265,1266,1267,1268,1269,1270,1271,1272,1273,1274,1275,1276,1277,1278,1279,1280,1281,1282,1283,1284,1285,1286,1287,1288,1289,1290,1291,1292,1293,1294,1295,1296,1297,1298,1299,1300,1301,1302,1303,1304,1305,1306,1307,1308,1309,1310,1311,1312,1313,1314,1315,1316,1317,1318,1319,1320,1321,1322,1323,1324,1325,1326,1327,1328,1329,1330,1331,1332,1333,1334,1335,1336,1337,1338,1339,1340,1341,1342,1343,1344,1345,1346,1347,1348,1349,1350,1351,1352,1353,1354,1355,1356,1357,1358,1359,1360,1361,1362,1363,1364,1365,1366,1367,1368,1369,1370,1371,1372,1373,1374,1375,1376,1377,1378,1379,1380,1381,1382,1383,1384,1385,1386,1387,1388,1389,1390,1391,1392,1393,1394,1395,1396,1397,1398,1399,1400,1401,1402,1403,1404,1405,1406,1407,1408,1409,1410,1411,1412,1413,1414,1415,1416,1417,1418,1419,1420,1421,1422,1423,1424,1425,1426,1427,1428,1429,1430,1431,1432,1433,1434,1435,1436,1437,1438,1439,1440,1441,1442,1443,1444,1445,1446,1447,1448,1449,1450,1451,1452,1453,1454,1455,1456,1457,1458,1459,1460,1461,1462,1463,1464,1465,1466,1467,1468,1469,1470,1471,1472,1473,1474,1475,1476,1477,1478,1479,1480,1481,1482,1483,1484,1485,1486,1487,1488,1489,1490,1491,1492,1493,1494,1495,1496,1497,1498,1499,1500,1501,1502,1503,1504,1505,1506,1507,1508,1509,1510,1511,1512,1513,1514,1515,1516,1517,1518,1519,1520,1521,1522,1523,1524,1525,1526,1527,1528,1529,1530,1531,1532,1533,1534,1535,1536,1537,1538,1539,1540,1541,1542,1543,1544,1545,1546,1547,1548,1549,1550,1551,1552,1553,1554,1555,1556,1557,1558,1559,1560,1561,1562,1563,1564,1565,1566,1567,1568,1569,1570,1571,1572,1573,1574,1575,1576,1577,1578,1579,1580,1581,1582,1583,1584,1585,1586,1587,1588,1589,1590,1591,1592,1593,1594,1595,1596,1597,1598,1599,1600,1601,1602,1603,1604,1605,1606,1607,1608,1609,1610,1611,1612,1613,1614,1615,1616,1617,1618,1619,1620,1621,1622,1623,1624,1625,1626,1627,1628,1629,1630,1631,1632,1633,1634,1635,1636,1637,1638,1639,1640,1641,1642,1643,1644,1645,1646,1647,1648,1649,1650,1651,1652,1653,1654,1655,1656,1657,1658,1659,1660,1661,1662,1663,1664,1665,1666,1667,1668,1669,1670,1671,1672,1673,1674,1675,1676,1677,1678,1679,1680,1681,1682,1683,1684,1685,1686,1687,1688,1689,1690,1691,1692,1693,1694,1695,1696,1697,1698,1699,1700,1701,1702,1703,1704,1705,1706,1707,1708,1709,1710,1711,1712,1713,1714,1715,1716,1717,1718,1719,1720,1721,1722,1723,1724,1725,1726,1727,1728,1729,1730,1731,1732,1733,1734,1735,1736,1737,1738,1739,1740,1741,1742,1743,1744,1745,1746,1747,1748,1749,1750,1751,1752,1753,1754,1755,1756,1757,1758,1759,1760,1761,1762,1763,1764,1765,1766,1767,1768,1769,1770,1771,1772,1773,1774,1775,1776,1777,1778,1779,1780,1781,1782,1783,1784,1785,1786,1787,1788,1789,1790,1791,1792,1793,1794,1795,1796,1797,1798,1799,1800,1801,1802,1803,1804,1805,1806,1807,1808,1809,1810,1811,1812,1813,1814,1815,1816,1817,1818,1819,1820,1821,1822,1823,1824,1825,1826,1827,1828,1829,1830,1831,1832,1833,1834,1835,1836,1837,1838,1839,1840,1841,1842,1843,1844],\"y\":{\"__ndarray__\":\"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\",\"dtype\":\"float64\",\"shape\":[1845]}},\"selected\":{\"id\":\"4796\",\"type\":\"Selection\"},\"selection_policy\":{\"id\":\"4795\",\"type\":\"UnionRenderers\"}},\"id\":\"4627\",\"type\":\"ColumnDataSource\"},{\"attributes\":{\"fill_alpha\":{\"value\":0.1},\"fill_color\":{\"value\":\"#1f77b4\"},\"line_alpha\":{\"value\":0.1},\"line_color\":{\"value\":\"#1f77b4\"},\"top\":{\"field\":\"limit_up\"},\"width\":{\"value\":0.2},\"x\":{\"field\":\"x_range\",\"transform\":{\"id\":\"4953\",\"type\":\"Dodge\"}}},\"id\":\"4956\",\"type\":\"VBar\"},{\"attributes\":{},\"id\":\"5998\",\"type\":\"Selection\"},{\"attributes\":{\"below\":[{\"id\":\"4602\",\"type\":\"DatetimeAxis\"}],\"left\":[{\"id\":\"4607\",\"type\":\"LinearAxis\"}],\"plot_height\":250,\"plot_width\":800,\"renderers\":[{\"id\":\"4602\",\"type\":\"DatetimeAxis\"},{\"id\":\"4606\",\"type\":\"Grid\"},{\"id\":\"4607\",\"type\":\"LinearAxis\"},{\"id\":\"4611\",\"type\":\"Grid\"},{\"id\":\"4620\",\"type\":\"BoxAnnotation\"},{\"id\":\"4630\",\"type\":\"GlyphRenderer\"}],\"title\":{\"id\":\"4591\",\"type\":\"Title\"},\"toolbar\":{\"id\":\"4618\",\"type\":\"Toolbar\"},\"toolbar_location\":null,\"x_range\":{\"id\":\"4594\",\"type\":\"DataRange1d\"},\"x_scale\":{\"id\":\"4598\",\"type\":\"LinearScale\"},\"y_range\":{\"id\":\"4596\",\"type\":\"DataRange1d\"},\"y_scale\":{\"id\":\"4600\",\"type\":\"LinearScale\"}},\"id\":\"4592\",\"subtype\":\"Figure\",\"type\":\"Plot\"},{\"attributes\":{\"formatter\":{\"id\":\"4782\",\"type\":\"BasicTickFormatter\"},\"plot\":{\"id\":\"4592\",\"subtype\":\"Figure\",\"type\":\"Plot\"},\"ticker\":{\"id\":\"4608\",\"type\":\"BasicTicker\"}},\"id\":\"4607\",\"type\":\"LinearAxis\"},{\"attributes\":{\"formatter\":{\"id\":\"5994\",\"type\":\"BasicTickFormatter\"},\"plot\":{\"id\":\"5772\",\"subtype\":\"Figure\",\"type\":\"Plot\"},\"ticker\":{\"id\":\"5783\",\"type\":\"BasicTicker\"}},\"id\":\"5782\",\"type\":\"LinearAxis\"},{\"attributes\":{\"callback\":null},\"id\":\"5774\",\"type\":\"DataRange1d\"},{\"attributes\":{\"data_source\":{\"id\":\"4918\",\"type\":\"ColumnDataSource\"},\"glyph\":{\"id\":\"4955\",\"type\":\"VBar\"},\"hover_glyph\":null,\"muted_glyph\":null,\"nonselection_glyph\":{\"id\":\"4956\",\"type\":\"VBar\"},\"selection_glyph\":null,\"view\":{\"id\":\"4958\",\"type\":\"CDSView\"}},\"id\":\"4957\",\"type\":\"GlyphRenderer\"}],\"root_ids\":[\"6164\"]},\"title\":\"Bokeh Application\",\"version\":\"1.0.4\"}};\n",
       "  var render_items = [{\"docid\":\"ee6db313-7c35-4698-b5e5-f57efb530e4f\",\"roots\":{\"6164\":\"f5228b6c-5e5a-4943-8bf4-8a48e69c3322\"}}];\n",
       "  root.Bokeh.embed.embed_items_notebook(docs_json, render_items);\n",
       "\n",
       "  }\n",
       "  if (root.Bokeh !== undefined) {\n",
       "    embed_document(root);\n",
       "  } else {\n",
       "    var attempts = 0;\n",
       "    var timer = setInterval(function(root) {\n",
       "      if (root.Bokeh !== undefined) {\n",
       "        embed_document(root);\n",
       "        clearInterval(timer);\n",
       "      }\n",
       "      attempts++;\n",
       "      if (attempts > 100) {\n",
       "        console.log(\"Bokeh: ERROR: Unable to run BokehJS code because BokehJS library is missing\");\n",
       "        clearInterval(timer);\n",
       "      }\n",
       "    }, 10, root)\n",
       "  }\n",
       "})(window);"
      ],
      "application/vnd.bokehjs_exec.v0+json": ""
     },
     "metadata": {
      "application/vnd.bokehjs_exec.v0+json": {
       "id": "6164"
      }
     },
     "output_type": "display_data"
    }
   ],
   "source": [
    "show(gridplot([[p_index], [p_hist, p_dist]]))"
   ]
  }
 ],
 "metadata": {
  "kernelspec": {
   "display_name": "Python 3",
   "language": "python",
   "name": "python3"
  },
  "language_info": {
   "codemirror_mode": {
    "name": "ipython",
    "version": 3
   },
   "file_extension": ".py",
   "mimetype": "text/x-python",
   "name": "python",
   "nbconvert_exporter": "python",
   "pygments_lexer": "ipython3",
   "version": "3.7.3"
  }
 },
 "nbformat": 4,
 "nbformat_minor": 2
}
